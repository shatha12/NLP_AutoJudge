{
 "cells": [
  {
   "cell_type": "code",
   "execution_count": 1548,
   "id": "51b7a722",
   "metadata": {},
   "outputs": [],
   "source": [
    "import nltk\n",
    "import pandas as pd\n",
    "from sklearn.feature_extraction.text import CountVectorizer \n",
    "from sklearn.decomposition import TruncatedSVD\n",
    "from sklearn.decomposition import NMF\n",
    "from sklearn.metrics.pairwise import cosine_similarity\n",
    "#-------------- imports Data exploration and visualization --------------#\n",
    "\n",
    "\n",
    "import numpy as np\n",
    "import matplotlib.pyplot as plt\n",
    "import seaborn as sns\n",
    "import plotly.express as px\n",
    "#%pylab inline\n",
    "\n",
    "#-------------- imports Modeles --------------#\n",
    "\n",
    "import re\n",
    "import nltk\n",
    "import itertools\n",
    "import nltk\n",
    "import string as st\n",
    "\n",
    "#nltk.download('wordnet')\n",
    "from sklearn.svm import LinearSVC\n",
    "from nltk.corpus import stopwords\n",
    "from nltk.stem import PorterStemmer\n",
    "from nltk.stem import WordNetLemmatizer\n",
    "from sklearn.feature_extraction.text import TfidfVectorizer, CountVectorizer\n",
    "from sklearn import decomposition\n",
    "from sklearn.model_selection import train_test_split\n",
    "from sklearn.decomposition import TruncatedSVD\n",
    "\n",
    "\n",
    "from sklearn import datasets\n",
    "from sklearn.decomposition import PCA\n",
    "\n",
    "from sklearn.metrics import accuracy_score, confusion_matrix\n",
    "from sklearn.model_selection import train_test_split\n",
    "from sklearn import svm\n",
    "from collections import Counter\n",
    "\n",
    "\n",
    "\n",
    "\n",
    "from sklearn.metrics import classification_report\n",
    "from sklearn.neural_network import MLPClassifier\n",
    "from sklearn.linear_model import Perceptron\n",
    "from sklearn.svm import LinearSVC\n",
    "from sklearn.linear_model import LogisticRegression\n",
    "from sklearn.naive_bayes import MultinomialNB\n",
    "from sklearn.neighbors import KNeighborsClassifier\n",
    "from sklearn.ensemble import VotingClassifier\n",
    "from sklearn.calibration import CalibratedClassifierCV\n",
    "\n",
    "\n",
    "%matplotlib inline\n"
   ]
  },
  {
   "cell_type": "markdown",
   "id": "62096037",
   "metadata": {},
   "source": [
    "#  \n",
    "\n",
    "\n",
    "\n"
   ]
  },
  {
   "cell_type": "markdown",
   "id": "916e52ef",
   "metadata": {},
   "source": [
    "#  \n",
    "\n",
    "\n",
    "\n"
   ]
  },
  {
   "cell_type": "markdown",
   "id": "29100bdc",
   "metadata": {},
   "source": [
    "# \n"
   ]
  },
  {
   "cell_type": "markdown",
   "id": "920f6c80",
   "metadata": {},
   "source": [
    "# Exploratory Data Analysis\n"
   ]
  },
  {
   "cell_type": "markdown",
   "id": "a6252563",
   "metadata": {},
   "source": [
    "* Reading Data\n",
    "* Cleaning Data\n",
    "* Visuallizaion Data"
   ]
  },
  {
   "cell_type": "markdown",
   "id": "2cfe639b",
   "metadata": {},
   "source": [
    "### Reading the  dataset"
   ]
  },
  {
   "cell_type": "code",
   "execution_count": 1549,
   "id": "98764504",
   "metadata": {},
   "outputs": [
    {
     "data": {
      "text/html": [
       "<div>\n",
       "<style scoped>\n",
       "    .dataframe tbody tr th:only-of-type {\n",
       "        vertical-align: middle;\n",
       "    }\n",
       "\n",
       "    .dataframe tbody tr th {\n",
       "        vertical-align: top;\n",
       "    }\n",
       "\n",
       "    .dataframe thead th {\n",
       "        text-align: right;\n",
       "    }\n",
       "</style>\n",
       "<table border=\"1\" class=\"dataframe\">\n",
       "  <thead>\n",
       "    <tr style=\"text-align: right;\">\n",
       "      <th></th>\n",
       "      <th>Unnamed: 0</th>\n",
       "      <th>ID</th>\n",
       "      <th>name</th>\n",
       "      <th>href</th>\n",
       "      <th>docket</th>\n",
       "      <th>term</th>\n",
       "      <th>first_party</th>\n",
       "      <th>second_party</th>\n",
       "      <th>facts</th>\n",
       "      <th>facts_len</th>\n",
       "      <th>majority_vote</th>\n",
       "      <th>minority_vote</th>\n",
       "      <th>first_party_winner</th>\n",
       "      <th>decision_type</th>\n",
       "      <th>disposition</th>\n",
       "      <th>issue_area</th>\n",
       "    </tr>\n",
       "  </thead>\n",
       "  <tbody>\n",
       "    <tr>\n",
       "      <th>0</th>\n",
       "      <td>0</td>\n",
       "      <td>50606</td>\n",
       "      <td>Roe v. Wade</td>\n",
       "      <td>https://api.oyez.org/cases/1971/70-18</td>\n",
       "      <td>70-18</td>\n",
       "      <td>1971</td>\n",
       "      <td>Jane Roe</td>\n",
       "      <td>Henry Wade</td>\n",
       "      <td>&lt;p&gt;In 1970, Jane Roe (a fictional name used in...</td>\n",
       "      <td>501</td>\n",
       "      <td>7</td>\n",
       "      <td>2</td>\n",
       "      <td>True</td>\n",
       "      <td>majority opinion</td>\n",
       "      <td>reversed</td>\n",
       "      <td>NaN</td>\n",
       "    </tr>\n",
       "    <tr>\n",
       "      <th>1</th>\n",
       "      <td>1</td>\n",
       "      <td>50613</td>\n",
       "      <td>Stanley v. Illinois</td>\n",
       "      <td>https://api.oyez.org/cases/1971/70-5014</td>\n",
       "      <td>70-5014</td>\n",
       "      <td>1971</td>\n",
       "      <td>Peter Stanley, Sr.</td>\n",
       "      <td>Illinois</td>\n",
       "      <td>&lt;p&gt;Joan Stanley had three children with Peter ...</td>\n",
       "      <td>757</td>\n",
       "      <td>5</td>\n",
       "      <td>2</td>\n",
       "      <td>True</td>\n",
       "      <td>majority opinion</td>\n",
       "      <td>reversed/remanded</td>\n",
       "      <td>Civil Rights</td>\n",
       "    </tr>\n",
       "    <tr>\n",
       "      <th>2</th>\n",
       "      <td>2</td>\n",
       "      <td>50623</td>\n",
       "      <td>Giglio v. United States</td>\n",
       "      <td>https://api.oyez.org/cases/1971/70-29</td>\n",
       "      <td>70-29</td>\n",
       "      <td>1971</td>\n",
       "      <td>John Giglio</td>\n",
       "      <td>United States</td>\n",
       "      <td>&lt;p&gt;John Giglio was convicted of passing forged...</td>\n",
       "      <td>495</td>\n",
       "      <td>7</td>\n",
       "      <td>0</td>\n",
       "      <td>True</td>\n",
       "      <td>majority opinion</td>\n",
       "      <td>reversed/remanded</td>\n",
       "      <td>Due Process</td>\n",
       "    </tr>\n",
       "    <tr>\n",
       "      <th>3</th>\n",
       "      <td>3</td>\n",
       "      <td>50632</td>\n",
       "      <td>Reed v. Reed</td>\n",
       "      <td>https://api.oyez.org/cases/1971/70-4</td>\n",
       "      <td>70-4</td>\n",
       "      <td>1971</td>\n",
       "      <td>Sally Reed</td>\n",
       "      <td>Cecil Reed</td>\n",
       "      <td>&lt;p&gt;The Idaho Probate Code specified that \"male...</td>\n",
       "      <td>378</td>\n",
       "      <td>7</td>\n",
       "      <td>0</td>\n",
       "      <td>True</td>\n",
       "      <td>majority opinion</td>\n",
       "      <td>reversed/remanded</td>\n",
       "      <td>Civil Rights</td>\n",
       "    </tr>\n",
       "    <tr>\n",
       "      <th>4</th>\n",
       "      <td>4</td>\n",
       "      <td>50643</td>\n",
       "      <td>Miller v. California</td>\n",
       "      <td>https://api.oyez.org/cases/1971/70-73</td>\n",
       "      <td>70-73</td>\n",
       "      <td>1971</td>\n",
       "      <td>Marvin Miller</td>\n",
       "      <td>California</td>\n",
       "      <td>&lt;p&gt;Miller, after conducting a mass mailing cam...</td>\n",
       "      <td>305</td>\n",
       "      <td>5</td>\n",
       "      <td>4</td>\n",
       "      <td>True</td>\n",
       "      <td>majority opinion</td>\n",
       "      <td>vacated/remanded</td>\n",
       "      <td>First Amendment</td>\n",
       "    </tr>\n",
       "  </tbody>\n",
       "</table>\n",
       "</div>"
      ],
      "text/plain": [
       "   Unnamed: 0     ID                     name  \\\n",
       "0           0  50606              Roe v. Wade   \n",
       "1           1  50613      Stanley v. Illinois   \n",
       "2           2  50623  Giglio v. United States   \n",
       "3           3  50632             Reed v. Reed   \n",
       "4           4  50643     Miller v. California   \n",
       "\n",
       "                                      href   docket  term  \\\n",
       "0    https://api.oyez.org/cases/1971/70-18    70-18  1971   \n",
       "1  https://api.oyez.org/cases/1971/70-5014  70-5014  1971   \n",
       "2    https://api.oyez.org/cases/1971/70-29    70-29  1971   \n",
       "3     https://api.oyez.org/cases/1971/70-4     70-4  1971   \n",
       "4    https://api.oyez.org/cases/1971/70-73    70-73  1971   \n",
       "\n",
       "           first_party   second_party  \\\n",
       "0             Jane Roe     Henry Wade   \n",
       "1  Peter Stanley, Sr.        Illinois   \n",
       "2         John Giglio   United States   \n",
       "3           Sally Reed     Cecil Reed   \n",
       "4        Marvin Miller     California   \n",
       "\n",
       "                                               facts  facts_len  \\\n",
       "0  <p>In 1970, Jane Roe (a fictional name used in...        501   \n",
       "1  <p>Joan Stanley had three children with Peter ...        757   \n",
       "2  <p>John Giglio was convicted of passing forged...        495   \n",
       "3  <p>The Idaho Probate Code specified that \"male...        378   \n",
       "4  <p>Miller, after conducting a mass mailing cam...        305   \n",
       "\n",
       "   majority_vote  minority_vote first_party_winner     decision_type  \\\n",
       "0              7              2               True  majority opinion   \n",
       "1              5              2               True  majority opinion   \n",
       "2              7              0               True  majority opinion   \n",
       "3              7              0               True  majority opinion   \n",
       "4              5              4               True  majority opinion   \n",
       "\n",
       "         disposition       issue_area  \n",
       "0           reversed              NaN  \n",
       "1  reversed/remanded     Civil Rights  \n",
       "2  reversed/remanded      Due Process  \n",
       "3  reversed/remanded     Civil Rights  \n",
       "4   vacated/remanded  First Amendment  "
      ]
     },
     "execution_count": 1549,
     "metadata": {},
     "output_type": "execute_result"
    }
   ],
   "source": [
    "df = pd.read_csv('justice.csv')\n",
    "df.head()"
   ]
  },
  {
   "cell_type": "code",
   "execution_count": 1550,
   "id": "9fa2e7f6",
   "metadata": {},
   "outputs": [
    {
     "data": {
      "text/plain": [
       "3303"
      ]
     },
     "execution_count": 1550,
     "metadata": {},
     "output_type": "execute_result"
    }
   ],
   "source": [
    "len(df)"
   ]
  },
  {
   "cell_type": "code",
   "execution_count": 1551,
   "id": "f31dc8ef",
   "metadata": {},
   "outputs": [
    {
     "data": {
      "text/plain": [
       "True     0.650852\n",
       "False    0.349148\n",
       "Name: first_party_winner, dtype: float64"
      ]
     },
     "execution_count": 1551,
     "metadata": {},
     "output_type": "execute_result"
    }
   ],
   "source": [
    "df.first_party_winner.value_counts(normalize=True)"
   ]
  },
  {
   "cell_type": "code",
   "execution_count": 1552,
   "id": "fd59c463",
   "metadata": {
    "scrolled": true
   },
   "outputs": [
    {
     "data": {
      "text/plain": [
       "<AxesSubplot:xlabel='first_party_winner', ylabel='count'>"
      ]
     },
     "execution_count": 1552,
     "metadata": {},
     "output_type": "execute_result"
    },
    {
     "data": {
      "image/png": "[encoded data removed]",
      "text/plain": [
       "<Figure size 432x288 with 1 Axes>"
      ]
     },
     "metadata": {
      "needs_background": "light"
     },
     "output_type": "display_data"
    }
   ],
   "source": [
    "sns.countplot(x =df[\"first_party_winner\"])\n"
   ]
  },
  {
   "cell_type": "code",
   "execution_count": 1553,
   "id": "07c264b1",
   "metadata": {},
   "outputs": [
    {
     "name": "stderr",
     "output_type": "stream",
     "text": [
      "/Users/shatha_almoteb/opt/anaconda3/lib/python3.8/site-packages/seaborn/_decorators.py:36: FutureWarning: Pass the following variable as a keyword arg: x. From version 0.12, the only valid positional argument will be `data`, and passing other arguments without an explicit keyword will result in an error or misinterpretation.\n",
      "  warnings.warn(\n"
     ]
    },
    {
     "data": {
      "image/png": "[encoded data removed]",
      "text/plain": [
       "<Figure size 1800x720 with 1 Axes>"
      ]
     },
     "metadata": {
      "needs_background": "light"
     },
     "output_type": "display_data"
    }
   ],
   "source": [
    "plt.figure(figsize=(25,10))\n",
    "plt.rcParams.update({'font.size': 10})\n",
    "sns.countplot('issue_area', data = df)\n",
    "plt.ylabel('Count')\n",
    "plt.xlabel('issue_area');"
   ]
  },
  {
   "cell_type": "code",
   "execution_count": 1554,
   "id": "098fc40f",
   "metadata": {},
   "outputs": [
    {
     "name": "stdout",
     "output_type": "stream",
     "text": [
      "There are 3677879 words in the combination of all facts.\n"
     ]
    }
   ],
   "source": [
    "text = \" \".join(fact for fact in df.facts)\n",
    "print (\"There are {} words in the combination of all facts.\".format(len(text)))"
   ]
  },
  {
   "cell_type": "markdown",
   "id": "9abd57ff",
   "metadata": {},
   "source": [
    "## Data Cleaning"
   ]
  },
  {
   "cell_type": "markdown",
   "id": "e38e6961",
   "metadata": {},
   "source": [
    "#### Checking for duplicates and drop it"
   ]
  },
  {
   "cell_type": "code",
   "execution_count": 1555,
   "id": "ff88752f",
   "metadata": {},
   "outputs": [
    {
     "data": {
      "text/plain": [
       "issue_area            142\n",
       "disposition            72\n",
       "first_party_winner     15\n",
       "decision_type           7\n",
       "first_party             1\n",
       "second_party            1\n",
       "Unnamed: 0              0\n",
       "ID                      0\n",
       "name                    0\n",
       "href                    0\n",
       "docket                  0\n",
       "term                    0\n",
       "facts                   0\n",
       "facts_len               0\n",
       "majority_vote           0\n",
       "minority_vote           0\n",
       "dtype: int64"
      ]
     },
     "execution_count": 1555,
     "metadata": {},
     "output_type": "execute_result"
    }
   ],
   "source": [
    "df.isnull().sum().sort_values(ascending=False)"
   ]
  },
  {
   "cell_type": "markdown",
   "id": "76a03224",
   "metadata": {},
   "source": [
    "### Droping nulls"
   ]
  },
  {
   "cell_type": "code",
   "execution_count": 1556,
   "id": "3ca4ee63",
   "metadata": {},
   "outputs": [],
   "source": [
    "data = df.dropna()"
   ]
  },
  {
   "cell_type": "code",
   "execution_count": 1557,
   "id": "953d31e9",
   "metadata": {},
   "outputs": [
    {
     "name": "stdout",
     "output_type": "stream",
     "text": [
      "<class 'pandas.core.frame.DataFrame'>\n",
      "RangeIndex: 3303 entries, 0 to 3302\n",
      "Data columns (total 16 columns):\n",
      " #   Column              Non-Null Count  Dtype \n",
      "---  ------              --------------  ----- \n",
      " 0   Unnamed: 0          3303 non-null   int64 \n",
      " 1   ID                  3303 non-null   int64 \n",
      " 2   name                3303 non-null   object\n",
      " 3   href                3303 non-null   object\n",
      " 4   docket              3303 non-null   object\n",
      " 5   term                3303 non-null   object\n",
      " 6   first_party         3302 non-null   object\n",
      " 7   second_party        3302 non-null   object\n",
      " 8   facts               3303 non-null   object\n",
      " 9   facts_len           3303 non-null   int64 \n",
      " 10  majority_vote       3303 non-null   int64 \n",
      " 11  minority_vote       3303 non-null   int64 \n",
      " 12  first_party_winner  3288 non-null   object\n",
      " 13  decision_type       3296 non-null   object\n",
      " 14  disposition         3231 non-null   object\n",
      " 15  issue_area          3161 non-null   object\n",
      "dtypes: int64(5), object(11)\n",
      "memory usage: 413.0+ KB\n"
     ]
    }
   ],
   "source": [
    "df.info()"
   ]
  },
  {
   "cell_type": "code",
   "execution_count": 1558,
   "id": "9932ca2d",
   "metadata": {},
   "outputs": [],
   "source": [
    "df['facts']= df['facts'].astype('string')"
   ]
  },
  {
   "cell_type": "code",
   "execution_count": 1559,
   "id": "695c22b8",
   "metadata": {},
   "outputs": [],
   "source": [
    "df['first_party_winner']=df['first_party_winner'].astype('string')\n",
    "df['first_party'] = df['first_party'].astype('string')\n",
    "df['second_party'] = df['second_party'].astype('string')\n"
   ]
  },
  {
   "cell_type": "code",
   "execution_count": 1560,
   "id": "630356a3",
   "metadata": {},
   "outputs": [
    {
     "name": "stdout",
     "output_type": "stream",
     "text": [
      "<class 'pandas.core.frame.DataFrame'>\n",
      "RangeIndex: 3303 entries, 0 to 3302\n",
      "Data columns (total 16 columns):\n",
      " #   Column              Non-Null Count  Dtype \n",
      "---  ------              --------------  ----- \n",
      " 0   Unnamed: 0          3303 non-null   int64 \n",
      " 1   ID                  3303 non-null   int64 \n",
      " 2   name                3303 non-null   object\n",
      " 3   href                3303 non-null   object\n",
      " 4   docket              3303 non-null   object\n",
      " 5   term                3303 non-null   object\n",
      " 6   first_party         3302 non-null   string\n",
      " 7   second_party        3302 non-null   string\n",
      " 8   facts               3303 non-null   string\n",
      " 9   facts_len           3303 non-null   int64 \n",
      " 10  majority_vote       3303 non-null   int64 \n",
      " 11  minority_vote       3303 non-null   int64 \n",
      " 12  first_party_winner  3288 non-null   string\n",
      " 13  decision_type       3296 non-null   object\n",
      " 14  disposition         3231 non-null   object\n",
      " 15  issue_area          3161 non-null   object\n",
      "dtypes: int64(5), object(7), string(4)\n",
      "memory usage: 413.0+ KB\n"
     ]
    }
   ],
   "source": [
    "df.info()"
   ]
  },
  {
   "cell_type": "markdown",
   "id": "d6c192c5",
   "metadata": {},
   "source": [
    "### Drop column"
   ]
  },
  {
   "cell_type": "code",
   "execution_count": 1561,
   "id": "f071a204",
   "metadata": {},
   "outputs": [],
   "source": [
    "df.drop(columns=['Unnamed: 0','name','facts_len','ID','href' ,'docket','disposition','decision_type'],inplace=True)"
   ]
  },
  {
   "cell_type": "code",
   "execution_count": 1562,
   "id": "efe20fee",
   "metadata": {},
   "outputs": [
    {
     "data": {
      "text/html": [
       "<div>\n",
       "<style scoped>\n",
       "    .dataframe tbody tr th:only-of-type {\n",
       "        vertical-align: middle;\n",
       "    }\n",
       "\n",
       "    .dataframe tbody tr th {\n",
       "        vertical-align: top;\n",
       "    }\n",
       "\n",
       "    .dataframe thead th {\n",
       "        text-align: right;\n",
       "    }\n",
       "</style>\n",
       "<table border=\"1\" class=\"dataframe\">\n",
       "  <thead>\n",
       "    <tr style=\"text-align: right;\">\n",
       "      <th></th>\n",
       "      <th>term</th>\n",
       "      <th>first_party</th>\n",
       "      <th>second_party</th>\n",
       "      <th>facts</th>\n",
       "      <th>majority_vote</th>\n",
       "      <th>minority_vote</th>\n",
       "      <th>first_party_winner</th>\n",
       "      <th>issue_area</th>\n",
       "    </tr>\n",
       "  </thead>\n",
       "  <tbody>\n",
       "    <tr>\n",
       "      <th>0</th>\n",
       "      <td>1971</td>\n",
       "      <td>Jane Roe</td>\n",
       "      <td>Henry Wade</td>\n",
       "      <td>&lt;p&gt;In 1970, Jane Roe (a fictional name used in...</td>\n",
       "      <td>7</td>\n",
       "      <td>2</td>\n",
       "      <td>True</td>\n",
       "      <td>NaN</td>\n",
       "    </tr>\n",
       "    <tr>\n",
       "      <th>1</th>\n",
       "      <td>1971</td>\n",
       "      <td>Peter Stanley, Sr.</td>\n",
       "      <td>Illinois</td>\n",
       "      <td>&lt;p&gt;Joan Stanley had three children with Peter ...</td>\n",
       "      <td>5</td>\n",
       "      <td>2</td>\n",
       "      <td>True</td>\n",
       "      <td>Civil Rights</td>\n",
       "    </tr>\n",
       "    <tr>\n",
       "      <th>2</th>\n",
       "      <td>1971</td>\n",
       "      <td>John Giglio</td>\n",
       "      <td>United States</td>\n",
       "      <td>&lt;p&gt;John Giglio was convicted of passing forged...</td>\n",
       "      <td>7</td>\n",
       "      <td>0</td>\n",
       "      <td>True</td>\n",
       "      <td>Due Process</td>\n",
       "    </tr>\n",
       "    <tr>\n",
       "      <th>3</th>\n",
       "      <td>1971</td>\n",
       "      <td>Sally Reed</td>\n",
       "      <td>Cecil Reed</td>\n",
       "      <td>&lt;p&gt;The Idaho Probate Code specified that \"male...</td>\n",
       "      <td>7</td>\n",
       "      <td>0</td>\n",
       "      <td>True</td>\n",
       "      <td>Civil Rights</td>\n",
       "    </tr>\n",
       "    <tr>\n",
       "      <th>4</th>\n",
       "      <td>1971</td>\n",
       "      <td>Marvin Miller</td>\n",
       "      <td>California</td>\n",
       "      <td>&lt;p&gt;Miller, after conducting a mass mailing cam...</td>\n",
       "      <td>5</td>\n",
       "      <td>4</td>\n",
       "      <td>True</td>\n",
       "      <td>First Amendment</td>\n",
       "    </tr>\n",
       "  </tbody>\n",
       "</table>\n",
       "</div>"
      ],
      "text/plain": [
       "   term          first_party   second_party  \\\n",
       "0  1971             Jane Roe     Henry Wade   \n",
       "1  1971  Peter Stanley, Sr.        Illinois   \n",
       "2  1971         John Giglio   United States   \n",
       "3  1971           Sally Reed     Cecil Reed   \n",
       "4  1971        Marvin Miller     California   \n",
       "\n",
       "                                               facts  majority_vote  \\\n",
       "0  <p>In 1970, Jane Roe (a fictional name used in...              7   \n",
       "1  <p>Joan Stanley had three children with Peter ...              5   \n",
       "2  <p>John Giglio was convicted of passing forged...              7   \n",
       "3  <p>The Idaho Probate Code specified that \"male...              7   \n",
       "4  <p>Miller, after conducting a mass mailing cam...              5   \n",
       "\n",
       "   minority_vote first_party_winner       issue_area  \n",
       "0              2               True              NaN  \n",
       "1              2               True     Civil Rights  \n",
       "2              0               True      Due Process  \n",
       "3              0               True     Civil Rights  \n",
       "4              4               True  First Amendment  "
      ]
     },
     "execution_count": 1562,
     "metadata": {},
     "output_type": "execute_result"
    }
   ],
   "source": [
    "df.head()"
   ]
  },
  {
   "cell_type": "code",
   "execution_count": 1563,
   "id": "cbf6756a",
   "metadata": {},
   "outputs": [
    {
     "data": {
      "text/plain": [
       "issue_area            142\n",
       "first_party_winner     15\n",
       "first_party             1\n",
       "second_party            1\n",
       "term                    0\n",
       "facts                   0\n",
       "majority_vote           0\n",
       "minority_vote           0\n",
       "dtype: int64"
      ]
     },
     "execution_count": 1563,
     "metadata": {},
     "output_type": "execute_result"
    }
   ],
   "source": [
    "df.isnull().sum().sort_values(ascending=False)"
   ]
  },
  {
   "cell_type": "markdown",
   "id": "7ba1aa26",
   "metadata": {},
   "source": [
    "### Drop nulls"
   ]
  },
  {
   "cell_type": "code",
   "execution_count": 1564,
   "id": "6551b89c",
   "metadata": {},
   "outputs": [],
   "source": [
    "df.dropna(subset=['second_party','first_party','first_party_winner','issue_area'],inplace=True)\n"
   ]
  },
  {
   "cell_type": "code",
   "execution_count": 1565,
   "id": "e7e63228",
   "metadata": {},
   "outputs": [
    {
     "data": {
      "text/plain": [
       "term                  0\n",
       "first_party           0\n",
       "second_party          0\n",
       "facts                 0\n",
       "majority_vote         0\n",
       "minority_vote         0\n",
       "first_party_winner    0\n",
       "issue_area            0\n",
       "dtype: int64"
      ]
     },
     "execution_count": 1565,
     "metadata": {},
     "output_type": "execute_result"
    }
   ],
   "source": [
    "df.isnull().sum().sort_values(ascending=False)"
   ]
  },
  {
   "cell_type": "markdown",
   "id": "690c25b8",
   "metadata": {},
   "source": [
    "#  \n"
   ]
  },
  {
   "cell_type": "markdown",
   "id": "0046934d",
   "metadata": {},
   "source": [
    "#  \n"
   ]
  },
  {
   "cell_type": "markdown",
   "id": "e3911f51",
   "metadata": {},
   "source": [
    "#  \n"
   ]
  },
  {
   "cell_type": "markdown",
   "id": "b41b8b86",
   "metadata": {},
   "source": [
    "# Text Cleaning"
   ]
  },
  {
   "cell_type": "markdown",
   "id": "5bd6d37b",
   "metadata": {},
   "source": [
    "* Removed digits from texts\n",
    "* Removed all punctuations.\n",
    "* Made all text lowercase.\n",
    "* Remove HTML tags.\n",
    "* Remove Stop Words."
   ]
  },
  {
   "cell_type": "markdown",
   "id": "0dc2fd18",
   "metadata": {},
   "source": [
    "### Lower case "
   ]
  },
  {
   "cell_type": "code",
   "execution_count": 1566,
   "id": "37fcc976",
   "metadata": {},
   "outputs": [
    {
     "name": "stdout",
     "output_type": "stream",
     "text": [
      "174.27177700348432\n"
     ]
    }
   ],
   "source": [
    "df['facts'] = df['facts'].str.lower()\n",
    "\n",
    "print(np.average(df['facts'].apply(lambda x: len(x.split()))))"
   ]
  },
  {
   "cell_type": "markdown",
   "id": "ccfc9db2",
   "metadata": {},
   "source": [
    "### Remove HTML tags and URLs from a string"
   ]
  },
  {
   "cell_type": "code",
   "execution_count": 1567,
   "id": "3e9e1bbf",
   "metadata": {},
   "outputs": [],
   "source": [
    "from bs4 import BeautifulSoup\n",
    "\n",
    "import re\n",
    "\n",
    "# Function to remove HTML tags and URLs from a string\n",
    "def sanitize_review(text):\n",
    "   \n",
    "    text = BeautifulSoup(str(text), 'html.parser').get_text()   \n",
    "    text = re.sub(r'http\\S+', '', str(text))\n",
    "    return text\n",
    "\n",
    "df['facts'] = df['facts'].apply(sanitize_review)"
   ]
  },
  {
   "cell_type": "code",
   "execution_count": 1568,
   "id": "4ddc5715",
   "metadata": {},
   "outputs": [
    {
     "data": {
      "text/plain": [
       "1       joan stanley had three children with peter sta...\n",
       "2       john giglio was convicted of passing forged mo...\n",
       "3       the idaho probate code specified that \"males m...\n",
       "4       miller, after conducting a mass mailing campai...\n",
       "5       ernest e. mandel was a belgian professional jo...\n",
       "                              ...                        \n",
       "3297    for over a century after the alaska purchase i...\n",
       "3298    refugio palomar-santiago, a mexican national, ...\n",
       "3299    tarahrick terry pleaded guilty to one count of...\n",
       "3300    joshua james cooley was parked in his pickup t...\n",
       "3302    the natural gas act (nga), 15 u.s.c. §§ 717–71...\n",
       "Name: facts, Length: 3157, dtype: object"
      ]
     },
     "execution_count": 1568,
     "metadata": {},
     "output_type": "execute_result"
    }
   ],
   "source": [
    "df.facts"
   ]
  },
  {
   "cell_type": "markdown",
   "id": "35ffd557",
   "metadata": {},
   "source": [
    "# Visualization using WordCloud"
   ]
  },
  {
   "cell_type": "markdown",
   "id": "19779c76",
   "metadata": {},
   "source": [
    "### Keep only the alphabits"
   ]
  },
  {
   "cell_type": "code",
   "execution_count": 1569,
   "id": "68c08bc2",
   "metadata": {},
   "outputs": [
    {
     "name": "stderr",
     "output_type": "stream",
     "text": [
      "<ipython-input-1569-1f805ca52018>:1: FutureWarning: The default value of regex will change from True to False in a future version.\n",
      "  df['facts'] = df['facts'].str.replace('[^a-zA-Z\\s]', ' ')\n"
     ]
    }
   ],
   "source": [
    "df['facts'] = df['facts'].str.replace('[^a-zA-Z\\s]', ' ')"
   ]
  },
  {
   "cell_type": "code",
   "execution_count": 1570,
   "id": "e3af445c",
   "metadata": {},
   "outputs": [
    {
     "data": {
      "text/plain": [
       "1       joan stanley had three children with peter sta...\n",
       "2       john giglio was convicted of passing forged mo...\n",
       "3       the idaho probate code specified that  males m...\n",
       "4       miller  after conducting a mass mailing campai...\n",
       "5       ernest e  mandel was a belgian professional jo...\n",
       "                              ...                        \n",
       "3297    for over a century after the alaska purchase i...\n",
       "3298    refugio palomar santiago  a mexican national  ...\n",
       "3299    tarahrick terry pleaded guilty to one count of...\n",
       "3300    joshua james cooley was parked in his pickup t...\n",
       "3302    the natural gas act  nga      u s c           ...\n",
       "Name: facts, Length: 3157, dtype: object"
      ]
     },
     "execution_count": 1570,
     "metadata": {},
     "output_type": "execute_result"
    }
   ],
   "source": [
    "df.facts"
   ]
  },
  {
   "cell_type": "markdown",
   "id": "4ea460e8",
   "metadata": {},
   "source": [
    "### Remove Stop Words"
   ]
  },
  {
   "cell_type": "code",
   "execution_count": 1571,
   "id": "ecefcead",
   "metadata": {},
   "outputs": [
    {
     "name": "stderr",
     "output_type": "stream",
     "text": [
      "[nltk_data] Downloading package stopwords to\n",
      "[nltk_data]     /Users/shatha_almoteb/nltk_data...\n",
      "[nltk_data]   Package stopwords is already up-to-date!\n"
     ]
    }
   ],
   "source": [
    "import nltk \n",
    "from nltk.corpus import stopwords\n",
    "nltk.download('stopwords')\n",
    "stop = stopwords.words('english')\n",
    "\n",
    "\n",
    "def remove_stop_words(text):\n",
    "    return ' '.join([word for word in str(text).split() if word not in (stop)])\n",
    "\n",
    "df['facts'] = df['facts'].apply(remove_stop_words)\n",
    "\n"
   ]
  },
  {
   "cell_type": "code",
   "execution_count": 1572,
   "id": "b3e4a773",
   "metadata": {},
   "outputs": [
    {
     "data": {
      "image/png": "[encoded data removed]",
      "text/plain": [
       "<Figure size 720x720 with 1 Axes>"
      ]
     },
     "metadata": {
      "needs_background": "light"
     },
     "output_type": "display_data"
    }
   ],
   "source": [
    "\n",
    "all_text=list(df.facts)\n",
    "all_text = \" \".join(all_text)\n",
    "\n",
    "from wordcloud import WordCloud\n",
    "\n",
    "wordcloud = WordCloud(background_color=\"white\").generate(all_text)\n",
    "\n",
    "plt.figure( figsize=(10,10) )\n",
    "plt.imshow(wordcloud, interpolation='bilinear')\n",
    "plt.axis(\"off\")\n",
    "plt.show()\n"
   ]
  },
  {
   "cell_type": "markdown",
   "id": "594c3b42",
   "metadata": {},
   "source": [
    "#  \n",
    "\n",
    "\n",
    "\n"
   ]
  },
  {
   "cell_type": "markdown",
   "id": "0ed621aa",
   "metadata": {},
   "source": [
    "#  \n",
    "\n",
    "\n",
    "\n"
   ]
  },
  {
   "cell_type": "markdown",
   "id": "696200c0",
   "metadata": {},
   "source": [
    "#  \n",
    "\n",
    "\n",
    "\n"
   ]
  },
  {
   "cell_type": "markdown",
   "id": "8fc26a82",
   "metadata": {},
   "source": [
    "# Natural Language Processing\n"
   ]
  },
  {
   "cell_type": "markdown",
   "id": "11744b53",
   "metadata": {},
   "source": [
    "#### Preprocessing :\n",
    "\n",
    "* Remove Frequant words\n",
    "* Vectorization"
   ]
  },
  {
   "cell_type": "markdown",
   "id": "ca748157",
   "metadata": {},
   "source": [
    "### Remove Frequant words"
   ]
  },
  {
   "cell_type": "code",
   "execution_count": 1573,
   "id": "64cd92d6",
   "metadata": {},
   "outputs": [],
   "source": [
    "def get_freq_word(text):\n",
    "    \"\"\"This method get count the frequency of each word in the passed parameter\"\"\"\n",
    "    Vocab_list = ' '.join(text)\n",
    "    temp_dict = Counter(Vocab_list.split()).items()\n",
    "    freq_df = pd.DataFrame(temp_dict)\n",
    "    freq_df = freq_df.sort_values(1, ascending = False)\n",
    "    return freq_df"
   ]
  },
  {
   "cell_type": "code",
   "execution_count": 1574,
   "id": "9413ed3a",
   "metadata": {},
   "outputs": [],
   "source": [
    "freq_words = get_freq_word(list(df.facts))"
   ]
  },
  {
   "cell_type": "code",
   "execution_count": 1575,
   "id": "5237e9e8",
   "metadata": {},
   "outputs": [
    {
     "data": {
      "text/html": [
       "<div>\n",
       "<style scoped>\n",
       "    .dataframe tbody tr th:only-of-type {\n",
       "        vertical-align: middle;\n",
       "    }\n",
       "\n",
       "    .dataframe tbody tr th {\n",
       "        vertical-align: top;\n",
       "    }\n",
       "\n",
       "    .dataframe thead th {\n",
       "        text-align: right;\n",
       "    }\n",
       "</style>\n",
       "<table border=\"1\" class=\"dataframe\">\n",
       "  <thead>\n",
       "    <tr style=\"text-align: right;\">\n",
       "      <th></th>\n",
       "      <th>WORD</th>\n",
       "      <th>COUNT</th>\n",
       "    </tr>\n",
       "  </thead>\n",
       "  <tbody>\n",
       "    <tr>\n",
       "      <th>41</th>\n",
       "      <td>court</td>\n",
       "      <td>10819</td>\n",
       "    </tr>\n",
       "    <tr>\n",
       "      <th>76</th>\n",
       "      <td>district</td>\n",
       "      <td>3866</td>\n",
       "    </tr>\n",
       "    <tr>\n",
       "      <th>12</th>\n",
       "      <td>state</td>\n",
       "      <td>2612</td>\n",
       "    </tr>\n",
       "    <tr>\n",
       "      <th>58</th>\n",
       "      <td>appeals</td>\n",
       "      <td>2524</td>\n",
       "    </tr>\n",
       "    <tr>\n",
       "      <th>389</th>\n",
       "      <td>federal</td>\n",
       "      <td>2341</td>\n",
       "    </tr>\n",
       "    <tr>\n",
       "      <th>60</th>\n",
       "      <td>circuit</td>\n",
       "      <td>2142</td>\n",
       "    </tr>\n",
       "    <tr>\n",
       "      <th>57</th>\n",
       "      <td>u</td>\n",
       "      <td>1962</td>\n",
       "    </tr>\n",
       "    <tr>\n",
       "      <th>179</th>\n",
       "      <td>act</td>\n",
       "      <td>1956</td>\n",
       "    </tr>\n",
       "    <tr>\n",
       "      <th>251</th>\n",
       "      <td>held</td>\n",
       "      <td>1549</td>\n",
       "    </tr>\n",
       "    <tr>\n",
       "      <th>40</th>\n",
       "      <td>supreme</td>\n",
       "      <td>1511</td>\n",
       "    </tr>\n",
       "    <tr>\n",
       "      <th>79</th>\n",
       "      <td>trial</td>\n",
       "      <td>1389</td>\n",
       "    </tr>\n",
       "    <tr>\n",
       "      <th>202</th>\n",
       "      <td>filed</td>\n",
       "      <td>1334</td>\n",
       "    </tr>\n",
       "    <tr>\n",
       "      <th>84</th>\n",
       "      <td>affirmed</td>\n",
       "      <td>1318</td>\n",
       "    </tr>\n",
       "    <tr>\n",
       "      <th>15</th>\n",
       "      <td>law</td>\n",
       "      <td>1262</td>\n",
       "    </tr>\n",
       "    <tr>\n",
       "      <th>895</th>\n",
       "      <td>case</td>\n",
       "      <td>1224</td>\n",
       "    </tr>\n",
       "    <tr>\n",
       "      <th>160</th>\n",
       "      <td>states</td>\n",
       "      <td>1099</td>\n",
       "    </tr>\n",
       "    <tr>\n",
       "      <th>34</th>\n",
       "      <td>amendment</td>\n",
       "      <td>1053</td>\n",
       "    </tr>\n",
       "    <tr>\n",
       "      <th>170</th>\n",
       "      <td>found</td>\n",
       "      <td>1036</td>\n",
       "    </tr>\n",
       "    <tr>\n",
       "      <th>77</th>\n",
       "      <td>denied</td>\n",
       "      <td>1035</td>\n",
       "    </tr>\n",
       "    <tr>\n",
       "      <th>383</th>\n",
       "      <td>argued</td>\n",
       "      <td>996</td>\n",
       "    </tr>\n",
       "  </tbody>\n",
       "</table>\n",
       "</div>"
      ],
      "text/plain": [
       "          WORD  COUNT\n",
       "41       court  10819\n",
       "76    district   3866\n",
       "12       state   2612\n",
       "58     appeals   2524\n",
       "389    federal   2341\n",
       "60     circuit   2142\n",
       "57           u   1962\n",
       "179        act   1956\n",
       "251       held   1549\n",
       "40     supreme   1511\n",
       "79       trial   1389\n",
       "202      filed   1334\n",
       "84    affirmed   1318\n",
       "15         law   1262\n",
       "895       case   1224\n",
       "160     states   1099\n",
       "34   amendment   1053\n",
       "170      found   1036\n",
       "77      denied   1035\n",
       "383     argued    996"
      ]
     },
     "execution_count": 1575,
     "metadata": {},
     "output_type": "execute_result"
    }
   ],
   "source": [
    "freq_words.columns = ['WORD', 'COUNT']\n",
    "freq_words.head(20)"
   ]
  },
  {
   "cell_type": "code",
   "execution_count": 1576,
   "id": "4aad4769",
   "metadata": {},
   "outputs": [],
   "source": [
    "freq_words.to_csv('freq_words.csv')"
   ]
  },
  {
   "cell_type": "code",
   "execution_count": 1577,
   "id": "fec8e113",
   "metadata": {},
   "outputs": [],
   "source": [
    "words_df = pd.read_csv('freq_words__delete_col.csv')"
   ]
  },
  {
   "cell_type": "code",
   "execution_count": 1578,
   "id": "0defc2c4",
   "metadata": {},
   "outputs": [],
   "source": [
    "words_df.drop('Unnamed: 0', axis = 1, inplace = True)"
   ]
  },
  {
   "cell_type": "code",
   "execution_count": 1579,
   "id": "36bd30ff",
   "metadata": {},
   "outputs": [],
   "source": [
    "words_df.fillna(0, inplace = True)"
   ]
  },
  {
   "cell_type": "code",
   "execution_count": 1580,
   "id": "65f4ac79",
   "metadata": {},
   "outputs": [
    {
     "data": {
      "text/html": [
       "<div>\n",
       "<style scoped>\n",
       "    .dataframe tbody tr th:only-of-type {\n",
       "        vertical-align: middle;\n",
       "    }\n",
       "\n",
       "    .dataframe tbody tr th {\n",
       "        vertical-align: top;\n",
       "    }\n",
       "\n",
       "    .dataframe thead th {\n",
       "        text-align: right;\n",
       "    }\n",
       "</style>\n",
       "<table border=\"1\" class=\"dataframe\">\n",
       "  <thead>\n",
       "    <tr style=\"text-align: right;\">\n",
       "      <th></th>\n",
       "      <th>WORD</th>\n",
       "      <th>COUNT</th>\n",
       "      <th>DELETE</th>\n",
       "    </tr>\n",
       "  </thead>\n",
       "  <tbody>\n",
       "    <tr>\n",
       "      <th>0</th>\n",
       "      <td>court</td>\n",
       "      <td>10819</td>\n",
       "      <td>1</td>\n",
       "    </tr>\n",
       "    <tr>\n",
       "      <th>1</th>\n",
       "      <td>district</td>\n",
       "      <td>3866</td>\n",
       "      <td>1</td>\n",
       "    </tr>\n",
       "    <tr>\n",
       "      <th>2</th>\n",
       "      <td>state</td>\n",
       "      <td>2612</td>\n",
       "      <td>1</td>\n",
       "    </tr>\n",
       "    <tr>\n",
       "      <th>3</th>\n",
       "      <td>appeals</td>\n",
       "      <td>2524</td>\n",
       "      <td>1</td>\n",
       "    </tr>\n",
       "    <tr>\n",
       "      <th>4</th>\n",
       "      <td>federal</td>\n",
       "      <td>2341</td>\n",
       "      <td>1</td>\n",
       "    </tr>\n",
       "    <tr>\n",
       "      <th>...</th>\n",
       "      <td>...</td>\n",
       "      <td>...</td>\n",
       "      <td>...</td>\n",
       "    </tr>\n",
       "    <tr>\n",
       "      <th>18559</th>\n",
       "      <td>diphtheria</td>\n",
       "      <td>1</td>\n",
       "      <td>0</td>\n",
       "    </tr>\n",
       "    <tr>\n",
       "      <th>18560</th>\n",
       "      <td>dichromate</td>\n",
       "      <td>1</td>\n",
       "      <td>0</td>\n",
       "    </tr>\n",
       "    <tr>\n",
       "      <th>18561</th>\n",
       "      <td>nonfiduciaries</td>\n",
       "      <td>1</td>\n",
       "      <td>0</td>\n",
       "    </tr>\n",
       "    <tr>\n",
       "      <th>18562</th>\n",
       "      <td>rogue</td>\n",
       "      <td>1</td>\n",
       "      <td>0</td>\n",
       "    </tr>\n",
       "    <tr>\n",
       "      <th>18563</th>\n",
       "      <td>punta</td>\n",
       "      <td>1</td>\n",
       "      <td>0</td>\n",
       "    </tr>\n",
       "  </tbody>\n",
       "</table>\n",
       "<p>18564 rows × 3 columns</p>\n",
       "</div>"
      ],
      "text/plain": [
       "                 WORD  COUNT  DELETE\n",
       "0               court  10819       1\n",
       "1            district   3866       1\n",
       "2               state   2612       1\n",
       "3             appeals   2524       1\n",
       "4             federal   2341       1\n",
       "...               ...    ...     ...\n",
       "18559      diphtheria      1       0\n",
       "18560      dichromate      1       0\n",
       "18561  nonfiduciaries      1       0\n",
       "18562           rogue      1       0\n",
       "18563           punta      1       0\n",
       "\n",
       "[18564 rows x 3 columns]"
      ]
     },
     "execution_count": 1580,
     "metadata": {},
     "output_type": "execute_result"
    }
   ],
   "source": [
    "words_df"
   ]
  },
  {
   "cell_type": "code",
   "execution_count": 1581,
   "id": "7ae71fd8",
   "metadata": {},
   "outputs": [],
   "source": [
    "domain_stop_words_df = words_df[words_df.DELETE == 1]"
   ]
  },
  {
   "cell_type": "code",
   "execution_count": 1582,
   "id": "9dbf11f7",
   "metadata": {},
   "outputs": [
    {
     "name": "stderr",
     "output_type": "stream",
     "text": [
      "/Users/shatha_almoteb/opt/anaconda3/lib/python3.8/site-packages/pandas/core/frame.py:4308: SettingWithCopyWarning: \n",
      "A value is trying to be set on a copy of a slice from a DataFrame\n",
      "\n",
      "See the caveats in the documentation: https://pandas.pydata.org/pandas-docs/stable/user_guide/indexing.html#returning-a-view-versus-a-copy\n",
      "  return super().drop(\n"
     ]
    }
   ],
   "source": [
    "domain_stop_words_df.drop('DELETE', axis = 1, inplace = True)"
   ]
  },
  {
   "cell_type": "code",
   "execution_count": 1583,
   "id": "db7a4b7d",
   "metadata": {},
   "outputs": [
    {
     "data": {
      "text/html": [
       "<div>\n",
       "<style scoped>\n",
       "    .dataframe tbody tr th:only-of-type {\n",
       "        vertical-align: middle;\n",
       "    }\n",
       "\n",
       "    .dataframe tbody tr th {\n",
       "        vertical-align: top;\n",
       "    }\n",
       "\n",
       "    .dataframe thead th {\n",
       "        text-align: right;\n",
       "    }\n",
       "</style>\n",
       "<table border=\"1\" class=\"dataframe\">\n",
       "  <thead>\n",
       "    <tr style=\"text-align: right;\">\n",
       "      <th></th>\n",
       "      <th>WORD</th>\n",
       "      <th>COUNT</th>\n",
       "    </tr>\n",
       "  </thead>\n",
       "  <tbody>\n",
       "    <tr>\n",
       "      <th>0</th>\n",
       "      <td>court</td>\n",
       "      <td>10819</td>\n",
       "    </tr>\n",
       "    <tr>\n",
       "      <th>1</th>\n",
       "      <td>district</td>\n",
       "      <td>3866</td>\n",
       "    </tr>\n",
       "    <tr>\n",
       "      <th>2</th>\n",
       "      <td>state</td>\n",
       "      <td>2612</td>\n",
       "    </tr>\n",
       "    <tr>\n",
       "      <th>3</th>\n",
       "      <td>appeals</td>\n",
       "      <td>2524</td>\n",
       "    </tr>\n",
       "    <tr>\n",
       "      <th>4</th>\n",
       "      <td>federal</td>\n",
       "      <td>2341</td>\n",
       "    </tr>\n",
       "    <tr>\n",
       "      <th>5</th>\n",
       "      <td>circuit</td>\n",
       "      <td>2142</td>\n",
       "    </tr>\n",
       "    <tr>\n",
       "      <th>6</th>\n",
       "      <td>u</td>\n",
       "      <td>1962</td>\n",
       "    </tr>\n",
       "    <tr>\n",
       "      <th>9</th>\n",
       "      <td>supreme</td>\n",
       "      <td>1511</td>\n",
       "    </tr>\n",
       "    <tr>\n",
       "      <th>13</th>\n",
       "      <td>law</td>\n",
       "      <td>1262</td>\n",
       "    </tr>\n",
       "  </tbody>\n",
       "</table>\n",
       "</div>"
      ],
      "text/plain": [
       "        WORD  COUNT\n",
       "0      court  10819\n",
       "1   district   3866\n",
       "2      state   2612\n",
       "3    appeals   2524\n",
       "4    federal   2341\n",
       "5    circuit   2142\n",
       "6          u   1962\n",
       "9    supreme   1511\n",
       "13       law   1262"
      ]
     },
     "execution_count": 1583,
     "metadata": {},
     "output_type": "execute_result"
    }
   ],
   "source": [
    "domain_stop_words_df"
   ]
  },
  {
   "cell_type": "code",
   "execution_count": 1584,
   "id": "35ae8d6d",
   "metadata": {},
   "outputs": [],
   "source": [
    "df_after = remove_stop_words(list(domain_stop_words_df.WORD))"
   ]
  },
  {
   "cell_type": "code",
   "execution_count": null,
   "id": "74d3db38",
   "metadata": {},
   "outputs": [],
   "source": []
  },
  {
   "cell_type": "code",
   "execution_count": 1585,
   "id": "eb076851",
   "metadata": {},
   "outputs": [
    {
     "data": {
      "image/png": "[encoded data removed]",
      "text/plain": [
       "<Figure size 1080x720 with 1 Axes>"
      ]
     },
     "metadata": {
      "needs_background": "light"
     },
     "output_type": "display_data"
    }
   ],
   "source": [
    "freq_words = get_freq_word(df.facts)\n",
    "freq_words.columns = ['WORD', 'COUNT']\n",
    "\n",
    "plt.figure(figsize=(15,10))\n",
    "plt.bar(freq_words.WORD[:20], freq_words.COUNT[:20], color ='#ceeffa',\n",
    "        width = 0.4)\n",
    "plt.xticks(rotation=90 ,fontsize = 15)\n",
    "plt.yticks(fontsize = 15)\n",
    "plt.xlabel(\"Words\" , fontsize = 25)\n",
    "plt.ylabel(\"Repetition\", fontsize = 25)\n",
    "plt.title(\"Most Frequent Word\", fontsize = 30)\n",
    "plt.show();"
   ]
  },
  {
   "cell_type": "markdown",
   "id": "76e06ca0",
   "metadata": {},
   "source": [
    "#  \n",
    "\n",
    "\n",
    "\n"
   ]
  },
  {
   "cell_type": "markdown",
   "id": "542d7d98",
   "metadata": {},
   "source": [
    "#  \n",
    "\n",
    "\n",
    "\n"
   ]
  },
  {
   "cell_type": "markdown",
   "id": "76e06ca0",
   "metadata": {},
   "source": [
    "#  \n",
    "\n",
    "\n",
    "\n"
   ]
  },
  {
   "cell_type": "markdown",
   "id": "76e06ca0",
   "metadata": {},
   "source": [
    "#  \n",
    "\n",
    "\n",
    "\n"
   ]
  },
  {
   "cell_type": "markdown",
   "id": "510d4990",
   "metadata": {},
   "source": [
    "## Vectorizations"
   ]
  },
  {
   "cell_type": "markdown",
   "id": "1afeb336",
   "metadata": {
    "scrolled": true
   },
   "source": [
    "* CountVectorizer\n",
    "* TfidfVectorizer"
   ]
  },
  {
   "cell_type": "markdown",
   "id": "e5293778",
   "metadata": {},
   "source": [
    "### Data Vectorization"
   ]
  },
  {
   "cell_type": "markdown",
   "id": "7327c174",
   "metadata": {},
   "source": [
    "#### TF-IDF Vectorizer without grams"
   ]
  },
  {
   "cell_type": "code",
   "execution_count": 1586,
   "id": "fcdea2b4",
   "metadata": {},
   "outputs": [
    {
     "data": {
      "text/html": [
       "<div>\n",
       "<style scoped>\n",
       "    .dataframe tbody tr th:only-of-type {\n",
       "        vertical-align: middle;\n",
       "    }\n",
       "\n",
       "    .dataframe tbody tr th {\n",
       "        vertical-align: top;\n",
       "    }\n",
       "\n",
       "    .dataframe thead th {\n",
       "        text-align: right;\n",
       "    }\n",
       "</style>\n",
       "<table border=\"1\" class=\"dataframe\">\n",
       "  <thead>\n",
       "    <tr style=\"text-align: right;\">\n",
       "      <th></th>\n",
       "      <th>aacw</th>\n",
       "      <th>aadvantage</th>\n",
       "      <th>aar</th>\n",
       "      <th>aaron</th>\n",
       "      <th>abandon</th>\n",
       "      <th>abandoned</th>\n",
       "      <th>abandoning</th>\n",
       "      <th>abandonment</th>\n",
       "      <th>abatement</th>\n",
       "      <th>abbasi</th>\n",
       "      <th>...</th>\n",
       "      <th>zobrests</th>\n",
       "      <th>zone</th>\n",
       "      <th>zoned</th>\n",
       "      <th>zones</th>\n",
       "      <th>zoning</th>\n",
       "      <th>zubik</th>\n",
       "      <th>zuni</th>\n",
       "      <th>zurcher</th>\n",
       "      <th>zurich</th>\n",
       "      <th>zurko</th>\n",
       "    </tr>\n",
       "  </thead>\n",
       "  <tbody>\n",
       "    <tr>\n",
       "      <th>0</th>\n",
       "      <td>0.0</td>\n",
       "      <td>0.0</td>\n",
       "      <td>0.0</td>\n",
       "      <td>0.0</td>\n",
       "      <td>0.0</td>\n",
       "      <td>0.0</td>\n",
       "      <td>0.0</td>\n",
       "      <td>0.0</td>\n",
       "      <td>0.0</td>\n",
       "      <td>0.0</td>\n",
       "      <td>...</td>\n",
       "      <td>0.0</td>\n",
       "      <td>0.0</td>\n",
       "      <td>0.0</td>\n",
       "      <td>0.0</td>\n",
       "      <td>0.0</td>\n",
       "      <td>0.0</td>\n",
       "      <td>0.0</td>\n",
       "      <td>0.0</td>\n",
       "      <td>0.0</td>\n",
       "      <td>0.0</td>\n",
       "    </tr>\n",
       "    <tr>\n",
       "      <th>1</th>\n",
       "      <td>0.0</td>\n",
       "      <td>0.0</td>\n",
       "      <td>0.0</td>\n",
       "      <td>0.0</td>\n",
       "      <td>0.0</td>\n",
       "      <td>0.0</td>\n",
       "      <td>0.0</td>\n",
       "      <td>0.0</td>\n",
       "      <td>0.0</td>\n",
       "      <td>0.0</td>\n",
       "      <td>...</td>\n",
       "      <td>0.0</td>\n",
       "      <td>0.0</td>\n",
       "      <td>0.0</td>\n",
       "      <td>0.0</td>\n",
       "      <td>0.0</td>\n",
       "      <td>0.0</td>\n",
       "      <td>0.0</td>\n",
       "      <td>0.0</td>\n",
       "      <td>0.0</td>\n",
       "      <td>0.0</td>\n",
       "    </tr>\n",
       "    <tr>\n",
       "      <th>2</th>\n",
       "      <td>0.0</td>\n",
       "      <td>0.0</td>\n",
       "      <td>0.0</td>\n",
       "      <td>0.0</td>\n",
       "      <td>0.0</td>\n",
       "      <td>0.0</td>\n",
       "      <td>0.0</td>\n",
       "      <td>0.0</td>\n",
       "      <td>0.0</td>\n",
       "      <td>0.0</td>\n",
       "      <td>...</td>\n",
       "      <td>0.0</td>\n",
       "      <td>0.0</td>\n",
       "      <td>0.0</td>\n",
       "      <td>0.0</td>\n",
       "      <td>0.0</td>\n",
       "      <td>0.0</td>\n",
       "      <td>0.0</td>\n",
       "      <td>0.0</td>\n",
       "      <td>0.0</td>\n",
       "      <td>0.0</td>\n",
       "    </tr>\n",
       "    <tr>\n",
       "      <th>3</th>\n",
       "      <td>0.0</td>\n",
       "      <td>0.0</td>\n",
       "      <td>0.0</td>\n",
       "      <td>0.0</td>\n",
       "      <td>0.0</td>\n",
       "      <td>0.0</td>\n",
       "      <td>0.0</td>\n",
       "      <td>0.0</td>\n",
       "      <td>0.0</td>\n",
       "      <td>0.0</td>\n",
       "      <td>...</td>\n",
       "      <td>0.0</td>\n",
       "      <td>0.0</td>\n",
       "      <td>0.0</td>\n",
       "      <td>0.0</td>\n",
       "      <td>0.0</td>\n",
       "      <td>0.0</td>\n",
       "      <td>0.0</td>\n",
       "      <td>0.0</td>\n",
       "      <td>0.0</td>\n",
       "      <td>0.0</td>\n",
       "    </tr>\n",
       "    <tr>\n",
       "      <th>4</th>\n",
       "      <td>0.0</td>\n",
       "      <td>0.0</td>\n",
       "      <td>0.0</td>\n",
       "      <td>0.0</td>\n",
       "      <td>0.0</td>\n",
       "      <td>0.0</td>\n",
       "      <td>0.0</td>\n",
       "      <td>0.0</td>\n",
       "      <td>0.0</td>\n",
       "      <td>0.0</td>\n",
       "      <td>...</td>\n",
       "      <td>0.0</td>\n",
       "      <td>0.0</td>\n",
       "      <td>0.0</td>\n",
       "      <td>0.0</td>\n",
       "      <td>0.0</td>\n",
       "      <td>0.0</td>\n",
       "      <td>0.0</td>\n",
       "      <td>0.0</td>\n",
       "      <td>0.0</td>\n",
       "      <td>0.0</td>\n",
       "    </tr>\n",
       "    <tr>\n",
       "      <th>...</th>\n",
       "      <td>...</td>\n",
       "      <td>...</td>\n",
       "      <td>...</td>\n",
       "      <td>...</td>\n",
       "      <td>...</td>\n",
       "      <td>...</td>\n",
       "      <td>...</td>\n",
       "      <td>...</td>\n",
       "      <td>...</td>\n",
       "      <td>...</td>\n",
       "      <td>...</td>\n",
       "      <td>...</td>\n",
       "      <td>...</td>\n",
       "      <td>...</td>\n",
       "      <td>...</td>\n",
       "      <td>...</td>\n",
       "      <td>...</td>\n",
       "      <td>...</td>\n",
       "      <td>...</td>\n",
       "      <td>...</td>\n",
       "      <td>...</td>\n",
       "    </tr>\n",
       "    <tr>\n",
       "      <th>3152</th>\n",
       "      <td>0.0</td>\n",
       "      <td>0.0</td>\n",
       "      <td>0.0</td>\n",
       "      <td>0.0</td>\n",
       "      <td>0.0</td>\n",
       "      <td>0.0</td>\n",
       "      <td>0.0</td>\n",
       "      <td>0.0</td>\n",
       "      <td>0.0</td>\n",
       "      <td>0.0</td>\n",
       "      <td>...</td>\n",
       "      <td>0.0</td>\n",
       "      <td>0.0</td>\n",
       "      <td>0.0</td>\n",
       "      <td>0.0</td>\n",
       "      <td>0.0</td>\n",
       "      <td>0.0</td>\n",
       "      <td>0.0</td>\n",
       "      <td>0.0</td>\n",
       "      <td>0.0</td>\n",
       "      <td>0.0</td>\n",
       "    </tr>\n",
       "    <tr>\n",
       "      <th>3153</th>\n",
       "      <td>0.0</td>\n",
       "      <td>0.0</td>\n",
       "      <td>0.0</td>\n",
       "      <td>0.0</td>\n",
       "      <td>0.0</td>\n",
       "      <td>0.0</td>\n",
       "      <td>0.0</td>\n",
       "      <td>0.0</td>\n",
       "      <td>0.0</td>\n",
       "      <td>0.0</td>\n",
       "      <td>...</td>\n",
       "      <td>0.0</td>\n",
       "      <td>0.0</td>\n",
       "      <td>0.0</td>\n",
       "      <td>0.0</td>\n",
       "      <td>0.0</td>\n",
       "      <td>0.0</td>\n",
       "      <td>0.0</td>\n",
       "      <td>0.0</td>\n",
       "      <td>0.0</td>\n",
       "      <td>0.0</td>\n",
       "    </tr>\n",
       "    <tr>\n",
       "      <th>3154</th>\n",
       "      <td>0.0</td>\n",
       "      <td>0.0</td>\n",
       "      <td>0.0</td>\n",
       "      <td>0.0</td>\n",
       "      <td>0.0</td>\n",
       "      <td>0.0</td>\n",
       "      <td>0.0</td>\n",
       "      <td>0.0</td>\n",
       "      <td>0.0</td>\n",
       "      <td>0.0</td>\n",
       "      <td>...</td>\n",
       "      <td>0.0</td>\n",
       "      <td>0.0</td>\n",
       "      <td>0.0</td>\n",
       "      <td>0.0</td>\n",
       "      <td>0.0</td>\n",
       "      <td>0.0</td>\n",
       "      <td>0.0</td>\n",
       "      <td>0.0</td>\n",
       "      <td>0.0</td>\n",
       "      <td>0.0</td>\n",
       "    </tr>\n",
       "    <tr>\n",
       "      <th>3155</th>\n",
       "      <td>0.0</td>\n",
       "      <td>0.0</td>\n",
       "      <td>0.0</td>\n",
       "      <td>0.0</td>\n",
       "      <td>0.0</td>\n",
       "      <td>0.0</td>\n",
       "      <td>0.0</td>\n",
       "      <td>0.0</td>\n",
       "      <td>0.0</td>\n",
       "      <td>0.0</td>\n",
       "      <td>...</td>\n",
       "      <td>0.0</td>\n",
       "      <td>0.0</td>\n",
       "      <td>0.0</td>\n",
       "      <td>0.0</td>\n",
       "      <td>0.0</td>\n",
       "      <td>0.0</td>\n",
       "      <td>0.0</td>\n",
       "      <td>0.0</td>\n",
       "      <td>0.0</td>\n",
       "      <td>0.0</td>\n",
       "    </tr>\n",
       "    <tr>\n",
       "      <th>3156</th>\n",
       "      <td>0.0</td>\n",
       "      <td>0.0</td>\n",
       "      <td>0.0</td>\n",
       "      <td>0.0</td>\n",
       "      <td>0.0</td>\n",
       "      <td>0.0</td>\n",
       "      <td>0.0</td>\n",
       "      <td>0.0</td>\n",
       "      <td>0.0</td>\n",
       "      <td>0.0</td>\n",
       "      <td>...</td>\n",
       "      <td>0.0</td>\n",
       "      <td>0.0</td>\n",
       "      <td>0.0</td>\n",
       "      <td>0.0</td>\n",
       "      <td>0.0</td>\n",
       "      <td>0.0</td>\n",
       "      <td>0.0</td>\n",
       "      <td>0.0</td>\n",
       "      <td>0.0</td>\n",
       "      <td>0.0</td>\n",
       "    </tr>\n",
       "  </tbody>\n",
       "</table>\n",
       "<p>3157 rows × 18378 columns</p>\n",
       "</div>"
      ],
      "text/plain": [
       "      aacw  aadvantage  aar  aaron  abandon  abandoned  abandoning  \\\n",
       "0      0.0         0.0  0.0    0.0      0.0        0.0         0.0   \n",
       "1      0.0         0.0  0.0    0.0      0.0        0.0         0.0   \n",
       "2      0.0         0.0  0.0    0.0      0.0        0.0         0.0   \n",
       "3      0.0         0.0  0.0    0.0      0.0        0.0         0.0   \n",
       "4      0.0         0.0  0.0    0.0      0.0        0.0         0.0   \n",
       "...    ...         ...  ...    ...      ...        ...         ...   \n",
       "3152   0.0         0.0  0.0    0.0      0.0        0.0         0.0   \n",
       "3153   0.0         0.0  0.0    0.0      0.0        0.0         0.0   \n",
       "3154   0.0         0.0  0.0    0.0      0.0        0.0         0.0   \n",
       "3155   0.0         0.0  0.0    0.0      0.0        0.0         0.0   \n",
       "3156   0.0         0.0  0.0    0.0      0.0        0.0         0.0   \n",
       "\n",
       "      abandonment  abatement  abbasi  ...  zobrests  zone  zoned  zones  \\\n",
       "0             0.0        0.0     0.0  ...       0.0   0.0    0.0    0.0   \n",
       "1             0.0        0.0     0.0  ...       0.0   0.0    0.0    0.0   \n",
       "2             0.0        0.0     0.0  ...       0.0   0.0    0.0    0.0   \n",
       "3             0.0        0.0     0.0  ...       0.0   0.0    0.0    0.0   \n",
       "4             0.0        0.0     0.0  ...       0.0   0.0    0.0    0.0   \n",
       "...           ...        ...     ...  ...       ...   ...    ...    ...   \n",
       "3152          0.0        0.0     0.0  ...       0.0   0.0    0.0    0.0   \n",
       "3153          0.0        0.0     0.0  ...       0.0   0.0    0.0    0.0   \n",
       "3154          0.0        0.0     0.0  ...       0.0   0.0    0.0    0.0   \n",
       "3155          0.0        0.0     0.0  ...       0.0   0.0    0.0    0.0   \n",
       "3156          0.0        0.0     0.0  ...       0.0   0.0    0.0    0.0   \n",
       "\n",
       "      zoning  zubik  zuni  zurcher  zurich  zurko  \n",
       "0        0.0    0.0   0.0      0.0     0.0    0.0  \n",
       "1        0.0    0.0   0.0      0.0     0.0    0.0  \n",
       "2        0.0    0.0   0.0      0.0     0.0    0.0  \n",
       "3        0.0    0.0   0.0      0.0     0.0    0.0  \n",
       "4        0.0    0.0   0.0      0.0     0.0    0.0  \n",
       "...      ...    ...   ...      ...     ...    ...  \n",
       "3152     0.0    0.0   0.0      0.0     0.0    0.0  \n",
       "3153     0.0    0.0   0.0      0.0     0.0    0.0  \n",
       "3154     0.0    0.0   0.0      0.0     0.0    0.0  \n",
       "3155     0.0    0.0   0.0      0.0     0.0    0.0  \n",
       "3156     0.0    0.0   0.0      0.0     0.0    0.0  \n",
       "\n",
       "[3157 rows x 18378 columns]"
      ]
     },
     "execution_count": 1586,
     "metadata": {},
     "output_type": "execute_result"
    }
   ],
   "source": [
    "tfidf = TfidfVectorizer(stop_words='english')\n",
    "doc_words = tfidf.fit_transform(df.facts)\n",
    "tfidf_df = pd.DataFrame(doc_words.toarray(),columns=tfidf.get_feature_names())\n",
    "tfidf_df"
   ]
  },
  {
   "cell_type": "markdown",
   "id": "6791a408",
   "metadata": {},
   "source": [
    "#### TF-IDF Vectorizer without grams"
   ]
  },
  {
   "cell_type": "code",
   "execution_count": 1587,
   "id": "bfd2b4be",
   "metadata": {},
   "outputs": [
    {
     "data": {
      "text/html": [
       "<div>\n",
       "<style scoped>\n",
       "    .dataframe tbody tr th:only-of-type {\n",
       "        vertical-align: middle;\n",
       "    }\n",
       "\n",
       "    .dataframe tbody tr th {\n",
       "        vertical-align: top;\n",
       "    }\n",
       "\n",
       "    .dataframe thead th {\n",
       "        text-align: right;\n",
       "    }\n",
       "</style>\n",
       "<table border=\"1\" class=\"dataframe\">\n",
       "  <thead>\n",
       "    <tr style=\"text-align: right;\">\n",
       "      <th></th>\n",
       "      <th>aacw</th>\n",
       "      <th>aadvantage</th>\n",
       "      <th>aar</th>\n",
       "      <th>aaron</th>\n",
       "      <th>abandon</th>\n",
       "      <th>abandoned</th>\n",
       "      <th>abandoning</th>\n",
       "      <th>abandonment</th>\n",
       "      <th>abatement</th>\n",
       "      <th>abbasi</th>\n",
       "      <th>...</th>\n",
       "      <th>zobrests</th>\n",
       "      <th>zone</th>\n",
       "      <th>zoned</th>\n",
       "      <th>zones</th>\n",
       "      <th>zoning</th>\n",
       "      <th>zubik</th>\n",
       "      <th>zuni</th>\n",
       "      <th>zurcher</th>\n",
       "      <th>zurich</th>\n",
       "      <th>zurko</th>\n",
       "    </tr>\n",
       "  </thead>\n",
       "  <tbody>\n",
       "    <tr>\n",
       "      <th>0</th>\n",
       "      <td>0.0</td>\n",
       "      <td>0.0</td>\n",
       "      <td>0.0</td>\n",
       "      <td>0.0</td>\n",
       "      <td>0.0</td>\n",
       "      <td>0.0</td>\n",
       "      <td>0.0</td>\n",
       "      <td>0.0</td>\n",
       "      <td>0.0</td>\n",
       "      <td>0.0</td>\n",
       "      <td>...</td>\n",
       "      <td>0.0</td>\n",
       "      <td>0.0</td>\n",
       "      <td>0.0</td>\n",
       "      <td>0.0</td>\n",
       "      <td>0.0</td>\n",
       "      <td>0.0</td>\n",
       "      <td>0.0</td>\n",
       "      <td>0.0</td>\n",
       "      <td>0.0</td>\n",
       "      <td>0.0</td>\n",
       "    </tr>\n",
       "    <tr>\n",
       "      <th>1</th>\n",
       "      <td>0.0</td>\n",
       "      <td>0.0</td>\n",
       "      <td>0.0</td>\n",
       "      <td>0.0</td>\n",
       "      <td>0.0</td>\n",
       "      <td>0.0</td>\n",
       "      <td>0.0</td>\n",
       "      <td>0.0</td>\n",
       "      <td>0.0</td>\n",
       "      <td>0.0</td>\n",
       "      <td>...</td>\n",
       "      <td>0.0</td>\n",
       "      <td>0.0</td>\n",
       "      <td>0.0</td>\n",
       "      <td>0.0</td>\n",
       "      <td>0.0</td>\n",
       "      <td>0.0</td>\n",
       "      <td>0.0</td>\n",
       "      <td>0.0</td>\n",
       "      <td>0.0</td>\n",
       "      <td>0.0</td>\n",
       "    </tr>\n",
       "    <tr>\n",
       "      <th>2</th>\n",
       "      <td>0.0</td>\n",
       "      <td>0.0</td>\n",
       "      <td>0.0</td>\n",
       "      <td>0.0</td>\n",
       "      <td>0.0</td>\n",
       "      <td>0.0</td>\n",
       "      <td>0.0</td>\n",
       "      <td>0.0</td>\n",
       "      <td>0.0</td>\n",
       "      <td>0.0</td>\n",
       "      <td>...</td>\n",
       "      <td>0.0</td>\n",
       "      <td>0.0</td>\n",
       "      <td>0.0</td>\n",
       "      <td>0.0</td>\n",
       "      <td>0.0</td>\n",
       "      <td>0.0</td>\n",
       "      <td>0.0</td>\n",
       "      <td>0.0</td>\n",
       "      <td>0.0</td>\n",
       "      <td>0.0</td>\n",
       "    </tr>\n",
       "    <tr>\n",
       "      <th>3</th>\n",
       "      <td>0.0</td>\n",
       "      <td>0.0</td>\n",
       "      <td>0.0</td>\n",
       "      <td>0.0</td>\n",
       "      <td>0.0</td>\n",
       "      <td>0.0</td>\n",
       "      <td>0.0</td>\n",
       "      <td>0.0</td>\n",
       "      <td>0.0</td>\n",
       "      <td>0.0</td>\n",
       "      <td>...</td>\n",
       "      <td>0.0</td>\n",
       "      <td>0.0</td>\n",
       "      <td>0.0</td>\n",
       "      <td>0.0</td>\n",
       "      <td>0.0</td>\n",
       "      <td>0.0</td>\n",
       "      <td>0.0</td>\n",
       "      <td>0.0</td>\n",
       "      <td>0.0</td>\n",
       "      <td>0.0</td>\n",
       "    </tr>\n",
       "    <tr>\n",
       "      <th>4</th>\n",
       "      <td>0.0</td>\n",
       "      <td>0.0</td>\n",
       "      <td>0.0</td>\n",
       "      <td>0.0</td>\n",
       "      <td>0.0</td>\n",
       "      <td>0.0</td>\n",
       "      <td>0.0</td>\n",
       "      <td>0.0</td>\n",
       "      <td>0.0</td>\n",
       "      <td>0.0</td>\n",
       "      <td>...</td>\n",
       "      <td>0.0</td>\n",
       "      <td>0.0</td>\n",
       "      <td>0.0</td>\n",
       "      <td>0.0</td>\n",
       "      <td>0.0</td>\n",
       "      <td>0.0</td>\n",
       "      <td>0.0</td>\n",
       "      <td>0.0</td>\n",
       "      <td>0.0</td>\n",
       "      <td>0.0</td>\n",
       "    </tr>\n",
       "    <tr>\n",
       "      <th>...</th>\n",
       "      <td>...</td>\n",
       "      <td>...</td>\n",
       "      <td>...</td>\n",
       "      <td>...</td>\n",
       "      <td>...</td>\n",
       "      <td>...</td>\n",
       "      <td>...</td>\n",
       "      <td>...</td>\n",
       "      <td>...</td>\n",
       "      <td>...</td>\n",
       "      <td>...</td>\n",
       "      <td>...</td>\n",
       "      <td>...</td>\n",
       "      <td>...</td>\n",
       "      <td>...</td>\n",
       "      <td>...</td>\n",
       "      <td>...</td>\n",
       "      <td>...</td>\n",
       "      <td>...</td>\n",
       "      <td>...</td>\n",
       "      <td>...</td>\n",
       "    </tr>\n",
       "    <tr>\n",
       "      <th>3152</th>\n",
       "      <td>0.0</td>\n",
       "      <td>0.0</td>\n",
       "      <td>0.0</td>\n",
       "      <td>0.0</td>\n",
       "      <td>0.0</td>\n",
       "      <td>0.0</td>\n",
       "      <td>0.0</td>\n",
       "      <td>0.0</td>\n",
       "      <td>0.0</td>\n",
       "      <td>0.0</td>\n",
       "      <td>...</td>\n",
       "      <td>0.0</td>\n",
       "      <td>0.0</td>\n",
       "      <td>0.0</td>\n",
       "      <td>0.0</td>\n",
       "      <td>0.0</td>\n",
       "      <td>0.0</td>\n",
       "      <td>0.0</td>\n",
       "      <td>0.0</td>\n",
       "      <td>0.0</td>\n",
       "      <td>0.0</td>\n",
       "    </tr>\n",
       "    <tr>\n",
       "      <th>3153</th>\n",
       "      <td>0.0</td>\n",
       "      <td>0.0</td>\n",
       "      <td>0.0</td>\n",
       "      <td>0.0</td>\n",
       "      <td>0.0</td>\n",
       "      <td>0.0</td>\n",
       "      <td>0.0</td>\n",
       "      <td>0.0</td>\n",
       "      <td>0.0</td>\n",
       "      <td>0.0</td>\n",
       "      <td>...</td>\n",
       "      <td>0.0</td>\n",
       "      <td>0.0</td>\n",
       "      <td>0.0</td>\n",
       "      <td>0.0</td>\n",
       "      <td>0.0</td>\n",
       "      <td>0.0</td>\n",
       "      <td>0.0</td>\n",
       "      <td>0.0</td>\n",
       "      <td>0.0</td>\n",
       "      <td>0.0</td>\n",
       "    </tr>\n",
       "    <tr>\n",
       "      <th>3154</th>\n",
       "      <td>0.0</td>\n",
       "      <td>0.0</td>\n",
       "      <td>0.0</td>\n",
       "      <td>0.0</td>\n",
       "      <td>0.0</td>\n",
       "      <td>0.0</td>\n",
       "      <td>0.0</td>\n",
       "      <td>0.0</td>\n",
       "      <td>0.0</td>\n",
       "      <td>0.0</td>\n",
       "      <td>...</td>\n",
       "      <td>0.0</td>\n",
       "      <td>0.0</td>\n",
       "      <td>0.0</td>\n",
       "      <td>0.0</td>\n",
       "      <td>0.0</td>\n",
       "      <td>0.0</td>\n",
       "      <td>0.0</td>\n",
       "      <td>0.0</td>\n",
       "      <td>0.0</td>\n",
       "      <td>0.0</td>\n",
       "    </tr>\n",
       "    <tr>\n",
       "      <th>3155</th>\n",
       "      <td>0.0</td>\n",
       "      <td>0.0</td>\n",
       "      <td>0.0</td>\n",
       "      <td>0.0</td>\n",
       "      <td>0.0</td>\n",
       "      <td>0.0</td>\n",
       "      <td>0.0</td>\n",
       "      <td>0.0</td>\n",
       "      <td>0.0</td>\n",
       "      <td>0.0</td>\n",
       "      <td>...</td>\n",
       "      <td>0.0</td>\n",
       "      <td>0.0</td>\n",
       "      <td>0.0</td>\n",
       "      <td>0.0</td>\n",
       "      <td>0.0</td>\n",
       "      <td>0.0</td>\n",
       "      <td>0.0</td>\n",
       "      <td>0.0</td>\n",
       "      <td>0.0</td>\n",
       "      <td>0.0</td>\n",
       "    </tr>\n",
       "    <tr>\n",
       "      <th>3156</th>\n",
       "      <td>0.0</td>\n",
       "      <td>0.0</td>\n",
       "      <td>0.0</td>\n",
       "      <td>0.0</td>\n",
       "      <td>0.0</td>\n",
       "      <td>0.0</td>\n",
       "      <td>0.0</td>\n",
       "      <td>0.0</td>\n",
       "      <td>0.0</td>\n",
       "      <td>0.0</td>\n",
       "      <td>...</td>\n",
       "      <td>0.0</td>\n",
       "      <td>0.0</td>\n",
       "      <td>0.0</td>\n",
       "      <td>0.0</td>\n",
       "      <td>0.0</td>\n",
       "      <td>0.0</td>\n",
       "      <td>0.0</td>\n",
       "      <td>0.0</td>\n",
       "      <td>0.0</td>\n",
       "      <td>0.0</td>\n",
       "    </tr>\n",
       "  </tbody>\n",
       "</table>\n",
       "<p>3157 rows × 18378 columns</p>\n",
       "</div>"
      ],
      "text/plain": [
       "      aacw  aadvantage  aar  aaron  abandon  abandoned  abandoning  \\\n",
       "0      0.0         0.0  0.0    0.0      0.0        0.0         0.0   \n",
       "1      0.0         0.0  0.0    0.0      0.0        0.0         0.0   \n",
       "2      0.0         0.0  0.0    0.0      0.0        0.0         0.0   \n",
       "3      0.0         0.0  0.0    0.0      0.0        0.0         0.0   \n",
       "4      0.0         0.0  0.0    0.0      0.0        0.0         0.0   \n",
       "...    ...         ...  ...    ...      ...        ...         ...   \n",
       "3152   0.0         0.0  0.0    0.0      0.0        0.0         0.0   \n",
       "3153   0.0         0.0  0.0    0.0      0.0        0.0         0.0   \n",
       "3154   0.0         0.0  0.0    0.0      0.0        0.0         0.0   \n",
       "3155   0.0         0.0  0.0    0.0      0.0        0.0         0.0   \n",
       "3156   0.0         0.0  0.0    0.0      0.0        0.0         0.0   \n",
       "\n",
       "      abandonment  abatement  abbasi  ...  zobrests  zone  zoned  zones  \\\n",
       "0             0.0        0.0     0.0  ...       0.0   0.0    0.0    0.0   \n",
       "1             0.0        0.0     0.0  ...       0.0   0.0    0.0    0.0   \n",
       "2             0.0        0.0     0.0  ...       0.0   0.0    0.0    0.0   \n",
       "3             0.0        0.0     0.0  ...       0.0   0.0    0.0    0.0   \n",
       "4             0.0        0.0     0.0  ...       0.0   0.0    0.0    0.0   \n",
       "...           ...        ...     ...  ...       ...   ...    ...    ...   \n",
       "3152          0.0        0.0     0.0  ...       0.0   0.0    0.0    0.0   \n",
       "3153          0.0        0.0     0.0  ...       0.0   0.0    0.0    0.0   \n",
       "3154          0.0        0.0     0.0  ...       0.0   0.0    0.0    0.0   \n",
       "3155          0.0        0.0     0.0  ...       0.0   0.0    0.0    0.0   \n",
       "3156          0.0        0.0     0.0  ...       0.0   0.0    0.0    0.0   \n",
       "\n",
       "      zoning  zubik  zuni  zurcher  zurich  zurko  \n",
       "0        0.0    0.0   0.0      0.0     0.0    0.0  \n",
       "1        0.0    0.0   0.0      0.0     0.0    0.0  \n",
       "2        0.0    0.0   0.0      0.0     0.0    0.0  \n",
       "3        0.0    0.0   0.0      0.0     0.0    0.0  \n",
       "4        0.0    0.0   0.0      0.0     0.0    0.0  \n",
       "...      ...    ...   ...      ...     ...    ...  \n",
       "3152     0.0    0.0   0.0      0.0     0.0    0.0  \n",
       "3153     0.0    0.0   0.0      0.0     0.0    0.0  \n",
       "3154     0.0    0.0   0.0      0.0     0.0    0.0  \n",
       "3155     0.0    0.0   0.0      0.0     0.0    0.0  \n",
       "3156     0.0    0.0   0.0      0.0     0.0    0.0  \n",
       "\n",
       "[3157 rows x 18378 columns]"
      ]
     },
     "execution_count": 1587,
     "metadata": {},
     "output_type": "execute_result"
    }
   ],
   "source": [
    "tfidf2 = TfidfVectorizer(binary = True, stop_words='english')\n",
    "doc_words2 = tfidf2.fit_transform(df.facts)\n",
    "tfidf2_df = pd.DataFrame(doc_words2.toarray(),columns=tfidf2.get_feature_names())\n",
    "tfidf2_df"
   ]
  },
  {
   "cell_type": "markdown",
   "id": "c7452578",
   "metadata": {},
   "source": [
    "### CountVectorizer"
   ]
  },
  {
   "cell_type": "code",
   "execution_count": 1588,
   "id": "8f9231ee",
   "metadata": {},
   "outputs": [],
   "source": [
    "vectorizer = CountVectorizer(max_features=20000,\n",
    "                             stop_words='english', token_pattern=\"\\\\b[a-z][a-z]+\\\\b\",\n",
    "                             binary=True)\n",
    "doc_word = vectorizer.fit_transform(df.facts)\n",
    "words = list(np.asarray(vectorizer.get_feature_names()))"
   ]
  },
  {
   "cell_type": "markdown",
   "id": "aea72319",
   "metadata": {},
   "source": [
    "# \n"
   ]
  },
  {
   "cell_type": "markdown",
   "id": "f0fe3f04",
   "metadata": {},
   "source": [
    "### Kmeans Cluster"
   ]
  },
  {
   "cell_type": "code",
   "execution_count": 1589,
   "id": "18756bdb",
   "metadata": {
    "scrolled": true
   },
   "outputs": [],
   "source": [
    "documents = list(df['facts'])\n",
    "X = vectorizer.fit_transform(documents)\n"
   ]
  },
  {
   "cell_type": "code",
   "execution_count": 1590,
   "id": "c67d5a58",
   "metadata": {},
   "outputs": [
    {
     "data": {
      "text/plain": [
       "MiniBatchKMeans(n_clusters=9, random_state=100)"
      ]
     },
     "execution_count": 1590,
     "metadata": {},
     "output_type": "execute_result"
    }
   ],
   "source": [
    "model = MiniBatchKMeans(n_clusters=9, random_state=100)\n",
    "model.fit(X)"
   ]
  },
  {
   "cell_type": "code",
   "execution_count": 1591,
   "id": "442aa5c6",
   "metadata": {
    "scrolled": true
   },
   "outputs": [
    {
     "data": {
      "text/plain": [
       "array([[0., 0., 0., ..., 0., 0., 0.],\n",
       "       [0., 0., 0., ..., 0., 0., 0.],\n",
       "       [0., 0., 0., ..., 0., 0., 0.],\n",
       "       ...,\n",
       "       [0., 0., 0., ..., 0., 0., 0.],\n",
       "       [0., 0., 0., ..., 0., 0., 0.],\n",
       "       [0., 0., 0., ..., 0., 0., 0.]])"
      ]
     },
     "execution_count": 1591,
     "metadata": {},
     "output_type": "execute_result"
    }
   ],
   "source": [
    "model.cluster_centers_"
   ]
  },
  {
   "cell_type": "code",
   "execution_count": 1592,
   "id": "9b217c20",
   "metadata": {},
   "outputs": [
    {
     "name": "stdout",
     "output_type": "stream",
     "text": [
      "Most Common Terms per Cluster:\n",
      "\n",
      "\n",
      "Cluster 0:\n",
      "acting\n",
      "values\n",
      "court\n",
      "hour\n",
      "school\n",
      "suit\n",
      "center\n",
      "regulate\n",
      "film\n",
      "moriches\n",
      "brought\n",
      "family\n",
      "schools\n",
      "use\n",
      "oriented\n",
      "religious\n",
      "authorized\n",
      "chapel\n",
      "lamb\n",
      "group\n",
      "\n",
      "\n",
      "Cluster 1:\n",
      "required\n",
      "second\n",
      "demonstrated\n",
      "bodily\n",
      "following\n",
      "juries\n",
      "jurek\n",
      "scheme\n",
      "louisiana\n",
      "conviction\n",
      "support\n",
      "recommendation\n",
      "regardless\n",
      "proffitt\n",
      "sentence\n",
      "carolina\n",
      "defendant\n",
      "north\n",
      "mandated\n",
      "mercy\n",
      "\n",
      "\n",
      "Cluster 2:\n",
      "second\n",
      "fourth\n",
      "held\n",
      "search\n",
      "schedule\n",
      "tracking\n",
      "time\n",
      "location\n",
      "argued\n",
      "duration\n",
      "complying\n",
      "bracelet\n",
      "convicted\n",
      "based\n",
      "sure\n",
      "prescriptive\n",
      "gps\n",
      "constant\n",
      "amendment\n",
      "constitutionality\n",
      "\n",
      "\n",
      "Cluster 3:\n",
      "court\n",
      "appeals\n",
      "affirmed\n",
      "district\n",
      "case\n",
      "circuit\n",
      "federal\n",
      "filed\n",
      "award\n",
      "law\n",
      "violated\n",
      "trial\n",
      "attorneys\n",
      "supreme\n",
      "held\n",
      "decision\n",
      "appealed\n",
      "ruling\n",
      "fees\n",
      "sued\n",
      "\n",
      "\n",
      "Cluster 4:\n",
      "court\n",
      "appeals\n",
      "district\n",
      "circuit\n",
      "federal\n",
      "act\n",
      "affirmed\n",
      "held\n",
      "state\n",
      "filed\n",
      "supreme\n",
      "violated\n",
      "law\n",
      "amendment\n",
      "states\n",
      "sued\n",
      "argued\n",
      "reversed\n",
      "denied\n",
      "case\n"
     ]
    }
   ],
   "source": [
    "print ('Most Common Terms per Cluster:')\n",
    "\n",
    "order_centroids = model.cluster_centers_.argsort()[:,::-1] #sort cluster centers by proximity to centroid\n",
    "terms = vectorizer.get_feature_names()\n",
    "\n",
    "for i in range(5):\n",
    "    print(\"\\n\")\n",
    "    print('Cluster %d:' % i)\n",
    "    for j in order_centroids[i, :20]: #replace 10 with n words per cluster\n",
    "        print ('%s' % terms[j]),\n",
    "    print"
   ]
  },
  {
   "cell_type": "markdown",
   "id": "0c4182d3",
   "metadata": {},
   "source": [
    "#  \n",
    "\n",
    "\n",
    "\n"
   ]
  },
  {
   "cell_type": "code",
   "execution_count": 1593,
   "id": "7aa11bc9",
   "metadata": {},
   "outputs": [],
   "source": [
    "pca = PCA(n_components=13, random_state=100)\n",
    "reduced_features = pca.fit_transform(X.toarray())\n",
    "\n",
    "reduced_cluster_centers = pca.transform(model.cluster_centers_)\n"
   ]
  },
  {
   "cell_type": "code",
   "execution_count": 1594,
   "id": "7b164c31",
   "metadata": {
    "scrolled": true
   },
   "outputs": [
    {
     "data": {
      "text/plain": [
       "<matplotlib.collections.PathCollection at 0x7f9cb0635ac0>"
      ]
     },
     "execution_count": 1594,
     "metadata": {},
     "output_type": "execute_result"
    },
    {
     "data": {
      "image/png": "[encoded data removed]",
      "text/plain": [
       "<Figure size 432x288 with 1 Axes>"
      ]
     },
     "metadata": {
      "needs_background": "light"
     },
     "output_type": "display_data"
    }
   ],
   "source": [
    "plt.scatter(reduced_features[:,0], reduced_features[:,1], c=model.predict(X))\n",
    "plt.scatter(reduced_cluster_centers[:, 0], reduced_cluster_centers[:,1], marker='x', s=150, c='b')"
   ]
  },
  {
   "cell_type": "markdown",
   "id": "0c4182d3",
   "metadata": {},
   "source": [
    "#  \n",
    "\n",
    "\n",
    "\n"
   ]
  },
  {
   "cell_type": "markdown",
   "id": "0c4182d3",
   "metadata": {},
   "source": [
    "#  \n",
    "\n",
    "\n",
    "\n"
   ]
  },
  {
   "cell_type": "markdown",
   "id": "b4925064",
   "metadata": {},
   "source": [
    "# Topic Modeling with Matrix Factorization\n"
   ]
  },
  {
   "cell_type": "markdown",
   "id": "f08070aa",
   "metadata": {},
   "source": [
    "#### Using 4 models:\n",
    " * NMF\n",
    " * LSA\n",
    " * LDA \n",
    " * Corex\n",
    " \n",
    " And then choose the model which give us the meaningful topics"
   ]
  },
  {
   "cell_type": "markdown",
   "id": "00cda215",
   "metadata": {},
   "source": [
    "### Modeling"
   ]
  },
  {
   "cell_type": "code",
   "execution_count": 1595,
   "id": "ce77e646",
   "metadata": {},
   "outputs": [],
   "source": [
    "import pandas as pd\n",
    "from sklearn.feature_extraction.text import TfidfVectorizer, CountVectorizer\n",
    "from sklearn import decomposition\n",
    "import matplotlib.pyplot as plt\n",
    "import numpy as np\n",
    "import re\n",
    "import nltk\n",
    "from nltk.stem.porter import PorterStemmer\n",
    "from sklearn.model_selection import train_test_split"
   ]
  },
  {
   "cell_type": "code",
   "execution_count": 1596,
   "id": "de2440a3",
   "metadata": {},
   "outputs": [
    {
     "name": "stderr",
     "output_type": "stream",
     "text": [
      "[nltk_data] Downloading package punkt to\n",
      "[nltk_data]     /Users/shatha_almoteb/nltk_data...\n",
      "[nltk_data]   Package punkt is already up-to-date!\n"
     ]
    },
    {
     "data": {
      "text/plain": [
       "True"
      ]
     },
     "execution_count": 1596,
     "metadata": {},
     "output_type": "execute_result"
    }
   ],
   "source": [
    "nltk.download('punkt')"
   ]
  },
  {
   "cell_type": "markdown",
   "id": "c1e354c1",
   "metadata": {},
   "source": [
    "### NMF"
   ]
  },
  {
   "cell_type": "code",
   "execution_count": 1597,
   "id": "a640311f",
   "metadata": {},
   "outputs": [],
   "source": [
    "X=df['facts']"
   ]
  },
  {
   "cell_type": "code",
   "execution_count": 1598,
   "id": "5040dece",
   "metadata": {},
   "outputs": [],
   "source": [
    "X_train, X_test = train_test_split(X, test_size=0.3, random_state=100)"
   ]
  },
  {
   "cell_type": "code",
   "execution_count": 1599,
   "id": "828b1029",
   "metadata": {},
   "outputs": [
    {
     "name": "stderr",
     "output_type": "stream",
     "text": [
      "[nltk_data] Downloading package stopwords to\n",
      "[nltk_data]     /Users/shatha_almoteb/nltk_data...\n",
      "[nltk_data]   Package stopwords is already up-to-date!\n"
     ]
    }
   ],
   "source": [
    "stemmer = nltk.stem.SnowballStemmer('english')\n",
    "nltk.download('stopwords')\n",
    "stop_words = set(nltk.corpus.stopwords.words('english'))\n"
   ]
  },
  {
   "cell_type": "code",
   "execution_count": 1600,
   "id": "2549c38f",
   "metadata": {},
   "outputs": [],
   "source": [
    "def tokenize(text):\n",
    "    tokens = [word for word in nltk.word_tokenize(text) if (len(word) > 3 and len(word.strip('Xx/')) > 2 and len(re.sub('\\d+', '', word.strip('Xx/'))) > 3) ] \n",
    "    tokens = map(str.lower, tokens)\n",
    "    stems = [stemmer.stem(item) for item in tokens if (item not in stop_words)]\n",
    "    return stems"
   ]
  },
  {
   "cell_type": "code",
   "execution_count": 1601,
   "id": "64c10e81",
   "metadata": {},
   "outputs": [],
   "source": [
    "# Instatiate\n",
    "vectorizer = TfidfVectorizer(tokenizer=tokenize,stop_words=None,max_df=0.75,max_features=1000, lowercase=False, ngram_range=(1,2))\n",
    "# Fit & Transform\n",
    "tfidf_vectors = vectorizer.fit_transform(X_train) ## Even astype(str) would work"
   ]
  },
  {
   "cell_type": "code",
   "execution_count": 1602,
   "id": "7691f9a2",
   "metadata": {},
   "outputs": [
    {
     "name": "stderr",
     "output_type": "stream",
     "text": [
      "/Users/shatha_almoteb/opt/anaconda3/lib/python3.8/site-packages/sklearn/decomposition/_nmf.py:312: FutureWarning: The 'init' value, when 'init=None' and n_components is less than n_samples and n_features, will be changed from 'nndsvd' to 'nndsvda' in 1.1 (renaming of 0.26).\n",
      "  warnings.warn((\"The 'init' value, when 'init=None' and \"\n"
     ]
    }
   ],
   "source": [
    "clf = decomposition.NMF(n_components=9, random_state=42) \n",
    "\n",
    "W1 = clf.fit_transform(tfidf_vectors)\n",
    "H1 = clf.components_"
   ]
  },
  {
   "cell_type": "code",
   "execution_count": 1603,
   "id": "d1379d5f",
   "metadata": {},
   "outputs": [],
   "source": [
    "num_words=10 # \n",
    "\n",
    "vocab = np.array(vectorizer.get_feature_names())\n",
    "\n",
    "top_words = lambda t: [vocab[i] for i in np.argsort(t)[:-num_words-1:-1]]\n",
    "topic_words = ([top_words(t) for t in H1])\n",
    "topics = [' '.join(t) for t in topic_words]\n"
   ]
  },
  {
   "cell_type": "code",
   "execution_count": 1604,
   "id": "3a645b3b",
   "metadata": {
    "scrolled": true
   },
   "outputs": [
    {
     "data": {
      "text/plain": [
       "['claim district feder district court state dismiss case jurisdict file suit',\n",
       " 'trial petit murder habea death juri counsel suprem court suprem deni',\n",
       " 'offic search polic arrest warrant polic offic evid suppress stop drug',\n",
       " 'school student school district educ public parent district board religi high',\n",
       " 'patent infring feder circuit product appeal feder use award invalid manufactur damag',\n",
       " 'sentenc convict offens firearm guilti year feloni prison possess crime',\n",
       " 'employe union plan benefit employ labor compani board work erisa',\n",
       " 'state amend violat vote citi suprem constitut elect right suprem court',\n",
       " 'bankruptci bankruptci court bank plan chapter debt loan code truste discharg']"
      ]
     },
     "execution_count": 1604,
     "metadata": {},
     "output_type": "execute_result"
    }
   ],
   "source": [
    "topics"
   ]
  },
  {
   "cell_type": "markdown",
   "id": "5ebbbc8a",
   "metadata": {},
   "source": [
    "### LDA"
   ]
  },
  {
   "cell_type": "code",
   "execution_count": 1605,
   "id": "6b86a641",
   "metadata": {},
   "outputs": [],
   "source": [
    "lda = decomposition.LatentDirichletAllocation(n_components=9, max_iter=3, learning_method='online', learning_offset=50, n_jobs=-1, random_state=111)\n",
    "W1 = lda.fit_transform(tfidf_vectors)\n",
    "H1 = lda.components_"
   ]
  },
  {
   "cell_type": "code",
   "execution_count": 1606,
   "id": "c62923f9",
   "metadata": {},
   "outputs": [
    {
     "name": "stdout",
     "output_type": "stream",
     "text": [
      "(2209, 9)\n",
      "(9, 1000)\n"
     ]
    }
   ],
   "source": [
    "print(W1.shape)\n",
    "print(H1.shape)"
   ]
  },
  {
   "cell_type": "code",
   "execution_count": 1607,
   "id": "e65c16d8",
   "metadata": {},
   "outputs": [
    {
     "data": {
      "text/plain": [
       "['trial state price counsel evid petit deni death district murder',\n",
       " 'applic polici employe patient hospit board titl person status violat',\n",
       " 'school tribe school district student educ indian parent land reserv district',\n",
       " 'search polic vote john student warrant school offici drug assault',\n",
       " 'convict california state sentenc florida offens feder juri feloni three',\n",
       " 'commerc death state feder incom north copyright sentenc north carolina regist',\n",
       " 'elect counti state vote land water georgia bank ordin suprem court',\n",
       " 'state district district court feder claim convict circuit violat court appeal trial',\n",
       " 'bankruptci ohio offic marijuana state vehicl polic search sixth properti']"
      ]
     },
     "execution_count": 1607,
     "metadata": {},
     "output_type": "execute_result"
    }
   ],
   "source": [
    "num_words=10\n",
    "vocab = np.array(vectorizer.get_feature_names())\n",
    "top_words = lambda t: [vocab[i] for i in np.argsort(t)[:-num_words-1:-1]]\n",
    "topic_words = ([top_words(t) for t in H1])\n",
    "topics = [' '.join(t) for t in topic_words]\n",
    "topics"
   ]
  },
  {
   "cell_type": "code",
   "execution_count": null,
   "id": "c982b8b9",
   "metadata": {},
   "outputs": [],
   "source": []
  },
  {
   "cell_type": "markdown",
   "id": "3cf84ea5",
   "metadata": {},
   "source": [
    "### LSA"
   ]
  },
  {
   "cell_type": "code",
   "execution_count": 1608,
   "id": "48456bf4",
   "metadata": {},
   "outputs": [],
   "source": [
    "lsa_p = TruncatedSVD(5)\n",
    "doc_topic = lsa_p.fit_transform(tfidf_vectors)"
   ]
  },
  {
   "cell_type": "code",
   "execution_count": 1609,
   "id": "65d5380d",
   "metadata": {},
   "outputs": [],
   "source": [
    "def display_topics(model, feature_names, no_top_words, topic_names=None):\n",
    "    for ix, topic in enumerate(model.components_):\n",
    "        if not topic_names or not topic_names[ix]:\n",
    "            print(\"\\nTopic \", ix)\n",
    "        else:\n",
    "            print(\"\\nTopic: '\",topic_names[ix],\"'\")\n",
    "        print(\", \".join([feature_names[i]\n",
    "                        for i in topic.argsort()[:-no_top_words - 1:-1]]))"
   ]
  },
  {
   "cell_type": "code",
   "execution_count": 1610,
   "id": "4acfbe2d",
   "metadata": {},
   "outputs": [
    {
     "name": "stdout",
     "output_type": "stream",
     "text": [
      "\n",
      "Topic  0\n",
      "state, district, district court, feder, claim, convict, circuit, trial, sentenc, violat, file, court appeal, case, suprem, suprem court\n",
      "\n",
      "Topic  1\n",
      "sentenc, convict, trial, polic, offic, search, murder, juri, evid, death, arrest, guilti, habea, counsel, warrant\n",
      "\n",
      "Topic  2\n",
      "offic, search, polic, warrant, arrest, polic offic, suppress, stop, fourth amend, drug, fourth, home, marijuana, vehicl, obtain\n",
      "\n",
      "Topic  3\n",
      "school, student, school district, educ, public, amend, parent, religi, first amend, board, teacher, first, violat, right, high\n",
      "\n",
      "Topic  4\n",
      "patent, school, infring, feder circuit, drug, product, juri, appeal feder, use, student, sentenc, award, manufactur, school district, invalid\n"
     ]
    }
   ],
   "source": [
    "display_topics(lsa_p,vectorizer.get_feature_names(), 15)"
   ]
  },
  {
   "cell_type": "markdown",
   "id": "3cc0da06",
   "metadata": {},
   "source": [
    "### Corex"
   ]
  },
  {
   "cell_type": "code",
   "execution_count": 1611,
   "id": "85d6aecb",
   "metadata": {},
   "outputs": [],
   "source": [
    "# Import other packages for examples\n",
    "\n",
    "import scipy.sparse as ss\n",
    "from corextopic import corextopic as ct\n",
    "from corextopic import vis_topic as vt"
   ]
  },
  {
   "cell_type": "code",
   "execution_count": 1612,
   "id": "234441c3",
   "metadata": {},
   "outputs": [],
   "source": [
    "vectorizer = CountVectorizer(max_features=20000,\n",
    "                             stop_words='english', token_pattern=\"\\\\b[a-z][a-z]+\\\\b\",\n",
    "                             binary=True)\n",
    "doc_word = vectorizer.fit_transform(df.facts)\n",
    "words = list(np.asarray(vectorizer.get_feature_names()))"
   ]
  },
  {
   "cell_type": "code",
   "execution_count": 1613,
   "id": "9503d58c",
   "metadata": {},
   "outputs": [
    {
     "data": {
      "text/plain": [
       "<corextopic.corextopic.Corex at 0x7f9911ac1e80>"
      ]
     },
     "execution_count": 1613,
     "metadata": {},
     "output_type": "execute_result"
    }
   ],
   "source": [
    "topic_model = ct.Corex(n_hidden=9, words=words, seed=1)\n",
    "topic_model.fit(doc_word, words=words, docs=df.facts)"
   ]
  },
  {
   "cell_type": "code",
   "execution_count": 1614,
   "id": "e4d238c8",
   "metadata": {},
   "outputs": [
    {
     "name": "stdout",
     "output_type": "stream",
     "text": [
      "0: convicted,police,trial,conviction,evidence,arrested,guilty,jury,search,charged\n",
      "1: act,company,tax,companies,income,pay,revenue,corporation,agreement,bankruptcy\n",
      "2: sentenced,habeas,murder,sentence,corpus,death,prison,sentencing,petition,counsel\n",
      "3: appeals,district,circuit,filed,claims,court,claim,suit,judgment,federal\n",
      "4: school,public,education,schools,students,congress,election,protection,voters,speech\n",
      "5: emotional,daughter,mother,father,distress,calls,wife,caused,beaten,threatening\n",
      "6: immigration,deportation,nationality,united,states,citizen,alien,naturalization,country,deported\n",
      "7: infringement,patent,national,bargaining,relations,work,collective,labor,union,trademark\n",
      "8: arises,allegedly,minutes,pain,rail,capable,point,prima,wore,magazines\n"
     ]
    }
   ],
   "source": [
    "topics = topic_model.get_topics()\n",
    "for n,topic in enumerate(topics):\n",
    "    topic_words,_,_ = zip(*topic)\n",
    "    print('{}: '.format(n) + ','.join(topic_words))"
   ]
  },
  {
   "cell_type": "code",
   "execution_count": 1615,
   "id": "9541e277",
   "metadata": {},
   "outputs": [
    {
     "data": {
      "text/plain": [
       "<corextopic.corextopic.Corex at 0x7f990ea51130>"
      ]
     },
     "execution_count": 1615,
     "metadata": {},
     "output_type": "execute_result"
    }
   ],
   "source": [
    "topic_model = ct.Corex(n_hidden=9, words=words)\n",
    "topic_model.fit(doc_word, words=words, docs=df.facts,anchors=\n",
    "[['religious','nonreligious', 'freedom' , 'speech'], #first am\n",
    "['tax', 'bankruptcy','income'], #taxes\n",
    "[ 'prison', 'killed' , 'arrested','guilty'],#criminal\n",
    "[ 'federal'], # fedralism\n",
    "['election'], # political\n",
    "[ 'beaten', 'threatening' , 'mother' , 'son', 'father'], # family\n",
    "[ 'immigration', 'deported','nationality'], # immigration\n",
    "[ 'union','labor','company'], #uion \n",
    " [ 'privacy' ,'private'] # privacy \n",
    "],anchor_strength=9)"
   ]
  },
  {
   "cell_type": "code",
   "execution_count": 1616,
   "id": "39d39059",
   "metadata": {},
   "outputs": [],
   "source": [
    "def show_topics(vectorizer, model, n_words):\n",
    "    keywords = np.array(vectorizer.get_feature_names())\n",
    "    topic_keywords = []\n",
    "    for topic_weights in 9:\n",
    "        top_keyword_locs = (-topic_weights).argsort()[:n_words]\n",
    "        topic_keywords.append(keywords.take(top_keyword_locs))\n",
    "    return topic_keywords"
   ]
  },
  {
   "cell_type": "code",
   "execution_count": 1617,
   "id": "8d80e8cb",
   "metadata": {},
   "outputs": [
    {
     "name": "stdout",
     "output_type": "stream",
     "text": [
      "0: speech,religious,freedom,free,amendment,nonreligious,establishment,religion,church,public\n",
      "1: tax,income,bankruptcy,revenue,taxes,paid,retirement,erisa,refund,irs\n",
      "2: guilty,arrested,prison,killed,convicted,sentenced,murder,conviction,trial,sentence\n",
      "3: federal,district,appeals,circuit,court,claims,jurisdiction,filed,claim,law\n",
      "4: election,voters,voting,candidates,congress,political,elections,vote,candidate,redistricting\n",
      "5: mother,son,father,beaten,threatening,child,later,daughter,birth,parents\n",
      "6: immigration,nationality,deported,deportation,united,citizen,states,alien,naturalization,removal\n",
      "7: company,labor,union,bargaining,employees,companies,relations,workers,agreement,collective\n",
      "8: private,privacy,education,disabilities,actions,expectation,ada,football,educational,idea\n"
     ]
    }
   ],
   "source": [
    "\n",
    "topics = topic_model.get_topics()\n",
    "for n,topic in enumerate(topics):\n",
    "    topic_words,_,_ = zip(*topic)\n",
    "    print('{}: '.format(n) + ','.join(topic_words))\n",
    "    "
   ]
  },
  {
   "cell_type": "markdown",
   "id": "ce07713f",
   "metadata": {},
   "source": [
    "The Corex model shows us the 8 resulting topics, and the terms that are associated with each topic. In this case:\n",
    "\n",
    "* Component 1 (Topic 1) seems to be about First Amendment\n",
    "* Component 2 (Topic 2) seems to be about Taxes cases\n",
    "* Component 3 (Topic 3) seems to be about Criminal cases\n",
    "* Component 4 (Topic 4) seems to be about fedralism\n",
    "* Component 5 (Topic 5) seems to be about political cases\n",
    "* Component 6 (Topic 6) seems to be about Domestic violance ( family law )\n",
    "* Component 6 (Topic 7) seems to be about immigration cases\n",
    "* Component 6 (Topic 8) seems to be about labor union cases\n",
    "* Component 6 (Topic 9) seems to be about privacy-related cases"
   ]
  },
  {
   "cell_type": "code",
   "execution_count": 1618,
   "id": "84db6e37",
   "metadata": {},
   "outputs": [
    {
     "data": {
      "text/html": [
       "<div>\n",
       "<style scoped>\n",
       "    .dataframe tbody tr th:only-of-type {\n",
       "        vertical-align: middle;\n",
       "    }\n",
       "\n",
       "    .dataframe tbody tr th {\n",
       "        vertical-align: top;\n",
       "    }\n",
       "\n",
       "    .dataframe thead th {\n",
       "        text-align: right;\n",
       "    }\n",
       "</style>\n",
       "<table border=\"1\" class=\"dataframe\">\n",
       "  <thead>\n",
       "    <tr style=\"text-align: right;\">\n",
       "      <th></th>\n",
       "      <th>topic0</th>\n",
       "      <th>topic1</th>\n",
       "      <th>topic2</th>\n",
       "      <th>topic3</th>\n",
       "      <th>topic4</th>\n",
       "      <th>topic5</th>\n",
       "      <th>topic6</th>\n",
       "      <th>topic7</th>\n",
       "      <th>topic8</th>\n",
       "    </tr>\n",
       "  </thead>\n",
       "  <tbody>\n",
       "    <tr>\n",
       "      <th>0</th>\n",
       "      <td>False</td>\n",
       "      <td>False</td>\n",
       "      <td>False</td>\n",
       "      <td>False</td>\n",
       "      <td>False</td>\n",
       "      <td>True</td>\n",
       "      <td>False</td>\n",
       "      <td>False</td>\n",
       "      <td>False</td>\n",
       "    </tr>\n",
       "    <tr>\n",
       "      <th>1</th>\n",
       "      <td>False</td>\n",
       "      <td>False</td>\n",
       "      <td>True</td>\n",
       "      <td>False</td>\n",
       "      <td>False</td>\n",
       "      <td>False</td>\n",
       "      <td>False</td>\n",
       "      <td>False</td>\n",
       "      <td>False</td>\n",
       "    </tr>\n",
       "    <tr>\n",
       "      <th>2</th>\n",
       "      <td>False</td>\n",
       "      <td>False</td>\n",
       "      <td>False</td>\n",
       "      <td>False</td>\n",
       "      <td>False</td>\n",
       "      <td>True</td>\n",
       "      <td>False</td>\n",
       "      <td>False</td>\n",
       "      <td>False</td>\n",
       "    </tr>\n",
       "    <tr>\n",
       "      <th>3</th>\n",
       "      <td>False</td>\n",
       "      <td>False</td>\n",
       "      <td>False</td>\n",
       "      <td>False</td>\n",
       "      <td>False</td>\n",
       "      <td>False</td>\n",
       "      <td>False</td>\n",
       "      <td>False</td>\n",
       "      <td>False</td>\n",
       "    </tr>\n",
       "    <tr>\n",
       "      <th>4</th>\n",
       "      <td>True</td>\n",
       "      <td>False</td>\n",
       "      <td>False</td>\n",
       "      <td>False</td>\n",
       "      <td>True</td>\n",
       "      <td>True</td>\n",
       "      <td>True</td>\n",
       "      <td>False</td>\n",
       "      <td>False</td>\n",
       "    </tr>\n",
       "  </tbody>\n",
       "</table>\n",
       "</div>"
      ],
      "text/plain": [
       "   topic0  topic1  topic2  topic3  topic4  topic5  topic6  topic7  topic8\n",
       "0   False   False   False   False   False    True   False   False   False\n",
       "1   False   False    True   False   False   False   False   False   False\n",
       "2   False   False   False   False   False    True   False   False   False\n",
       "3   False   False   False   False   False   False   False   False   False\n",
       "4    True   False   False   False    True    True    True   False   False"
      ]
     },
     "execution_count": 1618,
     "metadata": {},
     "output_type": "execute_result"
    }
   ],
   "source": [
    "predictions = pd.DataFrame(topic_model.predict(doc_word), columns=['topic'+str(i) for i in range(9)])\n",
    "predictions.head(5)"
   ]
  },
  {
   "cell_type": "code",
   "execution_count": 1619,
   "id": "ef626e57",
   "metadata": {},
   "outputs": [
    {
     "data": {
      "text/plain": [
       "[[('speech', 0.8900286941841535, 1.0),\n",
       "  ('religious', 0.6528980286530909, 1.0),\n",
       "  ('freedom', 0.4929332772187771, 1.0),\n",
       "  ('free', 0.03671290280818307, 1.0),\n",
       "  ('amendment', 0.02517496739396141, 1.0),\n",
       "  ('nonreligious', 0.023409683116523302, 1.0),\n",
       "  ('establishment', 0.02247401508819339, 1.0),\n",
       "  ('religion', 0.019830315128945883, 1.0),\n",
       "  ('church', 0.017245456648361454, 1.0),\n",
       "  ('public', 0.016340636543535347, 1.0)],\n",
       " [('tax', 1.6309309612800256, 1.0),\n",
       "  ('income', 1.0184901386443979, 1.0),\n",
       "  ('bankruptcy', 0.5925930031957692, 1.0),\n",
       "  ('revenue', 0.05368023444740133, 1.0),\n",
       "  ('taxes', 0.04898945140247169, 1.0),\n",
       "  ('paid', 0.042942051484933866, 1.0),\n",
       "  ('retirement', 0.03449765757468137, 1.0),\n",
       "  ('erisa', 0.03316933790186629, 1.0),\n",
       "  ('refund', 0.03247537741940351, 1.0),\n",
       "  ('irs', 0.030200732940327477, 1.0)],\n",
       " [('guilty', 1.48427739991451, 1.0),\n",
       "  ('arrested', 1.2532986557085997, 1.0),\n",
       "  ('prison', 0.909788487224643, 1.0),\n",
       "  ('killed', 0.2752872114768882, 1.0),\n",
       "  ('convicted', 0.18214796325399635, 1.0),\n",
       "  ('sentenced', 0.16072808251462056, 1.0),\n",
       "  ('murder', 0.13093453271129962, 1.0),\n",
       "  ('conviction', 0.12793542288300375, 1.0),\n",
       "  ('trial', 0.12496328018999137, 1.0),\n",
       "  ('sentence', 0.11698239808842942, 1.0)],\n",
       " [('federal', 8.833931586651138, 1.0),\n",
       "  ('district', 0.05103264369779603, 1.0),\n",
       "  ('appeals', 0.03585533705214328, 1.0),\n",
       "  ('circuit', 0.035753541193736416, 1.0),\n",
       "  ('court', 0.02214837396772451, 1.0),\n",
       "  ('claims', 0.017521952085575526, 1.0),\n",
       "  ('jurisdiction', 0.010232104835726284, 1.0),\n",
       "  ('filed', 0.010226927270609585, 1.0),\n",
       "  ('claim', 0.009373969648583223, 1.0),\n",
       "  ('law', 0.009120455754504151, 1.0)],\n",
       " [('election', 0.516635027488557, 1.0),\n",
       "  ('voters', 0.04352790538452033, 1.0),\n",
       "  ('voting', 0.035164901460906936, 1.0),\n",
       "  ('candidates', 0.029501235198483345, 1.0),\n",
       "  ('congress', 0.028580674158409064, 1.0),\n",
       "  ('political', 0.027338188206861513, 1.0),\n",
       "  ('elections', 0.02620817458957036, 1.0),\n",
       "  ('vote', 0.025605687856230346, 1.0),\n",
       "  ('candidate', 0.0248837730498509, 1.0),\n",
       "  ('redistricting', 0.02394719268650318, 1.0)],\n",
       " [('mother', 0.475104974925339, 1.0),\n",
       "  ('son', 0.3000123751082432, 1.0),\n",
       "  ('father', 0.260740924912422, 1.0),\n",
       "  ('beaten', 0.08248290067902263, 1.0),\n",
       "  ('threatening', 0.08248290067902263, 1.0),\n",
       "  ('child', 0.01824853083707409, 1.0),\n",
       "  ('later', 0.016963133567759248, 1.0),\n",
       "  ('daughter', 0.012568366341758902, 1.0),\n",
       "  ('birth', 0.012291336784413217, 1.0),\n",
       "  ('parents', 0.010896621231221744, 1.0)],\n",
       " [('immigration', 0.6619235422228716, 1.0),\n",
       "  ('nationality', 0.25378843484394453, 1.0),\n",
       "  ('deported', 0.15072288741077683, 1.0),\n",
       "  ('deportation', 0.02915977549037788, 1.0),\n",
       "  ('united', 0.028554962184222155, 1.0),\n",
       "  ('citizen', 0.02631529443693255, 1.0),\n",
       "  ('states', 0.024130282235901857, 1.0),\n",
       "  ('alien', 0.02386490474149848, 1.0),\n",
       "  ('naturalization', 0.020547759179483916, 1.0),\n",
       "  ('removal', 0.018148975079713414, 1.0)],\n",
       " [('company', 2.9850177558782116, 1.0),\n",
       "  ('labor', 0.7778405231145527, 1.0),\n",
       "  ('union', 0.7533298829751123, 1.0),\n",
       "  ('bargaining', 0.02884250441578806, 1.0),\n",
       "  ('employees', 0.027741013546693005, 1.0),\n",
       "  ('companies', 0.027146567302890168, 1.0),\n",
       "  ('relations', 0.02580392788715392, 1.0),\n",
       "  ('workers', 0.025165613279170454, 1.0),\n",
       "  ('agreement', 0.025133076032538282, 1.0),\n",
       "  ('collective', 0.02378012591186216, 1.0)],\n",
       " [('private', 1.2963881527145797, 1.0),\n",
       "  ('privacy', 0.29253972895483626, 1.0),\n",
       "  ('education', 0.014242457654816824, 1.0),\n",
       "  ('disabilities', 0.009432753768958626, 1.0),\n",
       "  ('actions', 0.008064033693947368, 1.0),\n",
       "  ('expectation', 0.0076693927666727675, 1.0),\n",
       "  ('ada', 0.007024171379974067, 1.0),\n",
       "  ('football', 0.006706967524245204, 1.0),\n",
       "  ('educational', 0.006341042080640338, 1.0),\n",
       "  ('idea', 0.0057619498906050694, 1.0)]]"
      ]
     },
     "execution_count": 1619,
     "metadata": {},
     "output_type": "execute_result"
    }
   ],
   "source": [
    "topic_model.get_topics()"
   ]
  },
  {
   "cell_type": "code",
   "execution_count": 1620,
   "id": "5b96f1d8",
   "metadata": {},
   "outputs": [
    {
     "data": {
      "text/html": [
       "<div>\n",
       "<style scoped>\n",
       "    .dataframe tbody tr th:only-of-type {\n",
       "        vertical-align: middle;\n",
       "    }\n",
       "\n",
       "    .dataframe tbody tr th {\n",
       "        vertical-align: top;\n",
       "    }\n",
       "\n",
       "    .dataframe thead th {\n",
       "        text-align: right;\n",
       "    }\n",
       "</style>\n",
       "<table border=\"1\" class=\"dataframe\">\n",
       "  <thead>\n",
       "    <tr style=\"text-align: right;\">\n",
       "      <th></th>\n",
       "      <th>criminal procedure</th>\n",
       "      <th>federal taxation</th>\n",
       "      <th>criminal procedure</th>\n",
       "      <th>fedralism</th>\n",
       "      <th>civil rights</th>\n",
       "      <th>civil rights</th>\n",
       "      <th>civil rights</th>\n",
       "      <th>union</th>\n",
       "      <th>privacy</th>\n",
       "      <th>Topic_Name</th>\n",
       "    </tr>\n",
       "  </thead>\n",
       "  <tbody>\n",
       "    <tr>\n",
       "      <th>0</th>\n",
       "      <td>False</td>\n",
       "      <td>False</td>\n",
       "      <td>False</td>\n",
       "      <td>False</td>\n",
       "      <td>False</td>\n",
       "      <td>True</td>\n",
       "      <td>False</td>\n",
       "      <td>False</td>\n",
       "      <td>False</td>\n",
       "      <td>civil rights</td>\n",
       "    </tr>\n",
       "    <tr>\n",
       "      <th>1</th>\n",
       "      <td>False</td>\n",
       "      <td>False</td>\n",
       "      <td>True</td>\n",
       "      <td>False</td>\n",
       "      <td>False</td>\n",
       "      <td>False</td>\n",
       "      <td>False</td>\n",
       "      <td>False</td>\n",
       "      <td>False</td>\n",
       "      <td>criminal procedure</td>\n",
       "    </tr>\n",
       "    <tr>\n",
       "      <th>2</th>\n",
       "      <td>False</td>\n",
       "      <td>False</td>\n",
       "      <td>False</td>\n",
       "      <td>False</td>\n",
       "      <td>False</td>\n",
       "      <td>True</td>\n",
       "      <td>False</td>\n",
       "      <td>False</td>\n",
       "      <td>False</td>\n",
       "      <td>civil rights</td>\n",
       "    </tr>\n",
       "    <tr>\n",
       "      <th>3</th>\n",
       "      <td>False</td>\n",
       "      <td>False</td>\n",
       "      <td>False</td>\n",
       "      <td>False</td>\n",
       "      <td>False</td>\n",
       "      <td>False</td>\n",
       "      <td>False</td>\n",
       "      <td>False</td>\n",
       "      <td>False</td>\n",
       "      <td>criminal procedure</td>\n",
       "    </tr>\n",
       "    <tr>\n",
       "      <th>4</th>\n",
       "      <td>True</td>\n",
       "      <td>False</td>\n",
       "      <td>False</td>\n",
       "      <td>False</td>\n",
       "      <td>True</td>\n",
       "      <td>True</td>\n",
       "      <td>True</td>\n",
       "      <td>False</td>\n",
       "      <td>False</td>\n",
       "      <td>criminal procedure</td>\n",
       "    </tr>\n",
       "    <tr>\n",
       "      <th>...</th>\n",
       "      <td>...</td>\n",
       "      <td>...</td>\n",
       "      <td>...</td>\n",
       "      <td>...</td>\n",
       "      <td>...</td>\n",
       "      <td>...</td>\n",
       "      <td>...</td>\n",
       "      <td>...</td>\n",
       "      <td>...</td>\n",
       "      <td>...</td>\n",
       "    </tr>\n",
       "    <tr>\n",
       "      <th>3152</th>\n",
       "      <td>False</td>\n",
       "      <td>False</td>\n",
       "      <td>False</td>\n",
       "      <td>True</td>\n",
       "      <td>True</td>\n",
       "      <td>False</td>\n",
       "      <td>False</td>\n",
       "      <td>False</td>\n",
       "      <td>True</td>\n",
       "      <td>fedralism</td>\n",
       "    </tr>\n",
       "    <tr>\n",
       "      <th>3153</th>\n",
       "      <td>False</td>\n",
       "      <td>False</td>\n",
       "      <td>True</td>\n",
       "      <td>True</td>\n",
       "      <td>False</td>\n",
       "      <td>False</td>\n",
       "      <td>True</td>\n",
       "      <td>False</td>\n",
       "      <td>False</td>\n",
       "      <td>criminal procedure</td>\n",
       "    </tr>\n",
       "    <tr>\n",
       "      <th>3154</th>\n",
       "      <td>False</td>\n",
       "      <td>False</td>\n",
       "      <td>True</td>\n",
       "      <td>False</td>\n",
       "      <td>False</td>\n",
       "      <td>False</td>\n",
       "      <td>False</td>\n",
       "      <td>False</td>\n",
       "      <td>False</td>\n",
       "      <td>criminal procedure</td>\n",
       "    </tr>\n",
       "    <tr>\n",
       "      <th>3155</th>\n",
       "      <td>False</td>\n",
       "      <td>False</td>\n",
       "      <td>True</td>\n",
       "      <td>True</td>\n",
       "      <td>False</td>\n",
       "      <td>False</td>\n",
       "      <td>False</td>\n",
       "      <td>False</td>\n",
       "      <td>True</td>\n",
       "      <td>criminal procedure</td>\n",
       "    </tr>\n",
       "    <tr>\n",
       "      <th>3156</th>\n",
       "      <td>False</td>\n",
       "      <td>False</td>\n",
       "      <td>False</td>\n",
       "      <td>True</td>\n",
       "      <td>False</td>\n",
       "      <td>False</td>\n",
       "      <td>False</td>\n",
       "      <td>False</td>\n",
       "      <td>True</td>\n",
       "      <td>fedralism</td>\n",
       "    </tr>\n",
       "  </tbody>\n",
       "</table>\n",
       "<p>3157 rows × 10 columns</p>\n",
       "</div>"
      ],
      "text/plain": [
       "      criminal procedure  federal taxation  criminal procedure  fedralism  \\\n",
       "0                  False             False               False      False   \n",
       "1                  False             False                True      False   \n",
       "2                  False             False               False      False   \n",
       "3                  False             False               False      False   \n",
       "4                   True             False               False      False   \n",
       "...                  ...               ...                 ...        ...   \n",
       "3152               False             False               False       True   \n",
       "3153               False             False                True       True   \n",
       "3154               False             False                True      False   \n",
       "3155               False             False                True       True   \n",
       "3156               False             False               False       True   \n",
       "\n",
       "      civil rights  civil rights  civil rights  union  privacy  \\\n",
       "0            False          True         False  False    False   \n",
       "1            False         False         False  False    False   \n",
       "2            False          True         False  False    False   \n",
       "3            False         False         False  False    False   \n",
       "4             True          True          True  False    False   \n",
       "...            ...           ...           ...    ...      ...   \n",
       "3152          True         False         False  False     True   \n",
       "3153         False         False          True  False    False   \n",
       "3154         False         False         False  False    False   \n",
       "3155         False         False         False  False     True   \n",
       "3156         False         False         False  False     True   \n",
       "\n",
       "              Topic_Name  \n",
       "0           civil rights  \n",
       "1     criminal procedure  \n",
       "2           civil rights  \n",
       "3     criminal procedure  \n",
       "4     criminal procedure  \n",
       "...                  ...  \n",
       "3152           fedralism  \n",
       "3153  criminal procedure  \n",
       "3154  criminal procedure  \n",
       "3155  criminal procedure  \n",
       "3156           fedralism  \n",
       "\n",
       "[3157 rows x 10 columns]"
      ]
     },
     "execution_count": 1620,
     "metadata": {},
     "output_type": "execute_result"
    }
   ],
   "source": [
    "topics_of_resume = pd.DataFrame(topic_model.predict(doc_word), columns = ['criminal procedure' ,'federal taxation' , 'criminal procedure' ,'fedralism' ,'civil rights' ,'civil rights', 'civil rights' , 'union' , 'privacy'])\n",
    "topics_of_resume['Topic_Name'] = topics_of_resume.idxmax(axis=1)\n",
    "topics_of_resume"
   ]
  },
  {
   "cell_type": "code",
   "execution_count": null,
   "id": "031cd0d6",
   "metadata": {},
   "outputs": [],
   "source": []
  },
  {
   "cell_type": "markdown",
   "id": "f79a16e8",
   "metadata": {},
   "source": [
    "### Prediction of the case outcome"
   ]
  },
  {
   "cell_type": "code",
   "execution_count": 1621,
   "id": "157d4b28",
   "metadata": {},
   "outputs": [
    {
     "name": "stdout",
     "output_type": "stream",
     "text": [
      "<class 'pandas.core.frame.DataFrame'>\n",
      "Int64Index: 3157 entries, 1 to 3302\n",
      "Data columns (total 8 columns):\n",
      " #   Column              Non-Null Count  Dtype \n",
      "---  ------              --------------  ----- \n",
      " 0   term                3157 non-null   object\n",
      " 1   first_party         3157 non-null   string\n",
      " 2   second_party        3157 non-null   string\n",
      " 3   facts               3157 non-null   object\n",
      " 4   majority_vote       3157 non-null   int64 \n",
      " 5   minority_vote       3157 non-null   int64 \n",
      " 6   first_party_winner  3157 non-null   string\n",
      " 7   issue_area          3157 non-null   object\n",
      "dtypes: int64(2), object(3), string(3)\n",
      "memory usage: 222.0+ KB\n"
     ]
    }
   ],
   "source": [
    "df.info()"
   ]
  },
  {
   "cell_type": "code",
   "execution_count": 1622,
   "id": "3d48e4e1",
   "metadata": {},
   "outputs": [],
   "source": [
    "df[['first_party_winner']] = df[['first_party_winner']].apply(LabelEncoder().fit_transform)"
   ]
  },
  {
   "cell_type": "code",
   "execution_count": 1623,
   "id": "d9f15ba6",
   "metadata": {},
   "outputs": [
    {
     "data": {
      "text/plain": [
       "1       1\n",
       "2       1\n",
       "3       1\n",
       "4       1\n",
       "5       1\n",
       "       ..\n",
       "3297    1\n",
       "3298    1\n",
       "3299    0\n",
       "3300    1\n",
       "3302    1\n",
       "Name: first_party_winner, Length: 3157, dtype: int64"
      ]
     },
     "execution_count": 1623,
     "metadata": {},
     "output_type": "execute_result"
    }
   ],
   "source": [
    "df.first_party_winner"
   ]
  },
  {
   "cell_type": "code",
   "execution_count": 1624,
   "id": "2f252fa5",
   "metadata": {},
   "outputs": [],
   "source": [
    "# # Perform an 80-20 split for training and testing data\n",
    "X_train_party1_text, X_test_party1_text, \\\n",
    "X_train_party2_text, X_test_party2_text, \\\n",
    "X_train_facts_text, X_test_facts_text, \\\n",
    "y_train, y_test = train_test_split(\n",
    "    df['first_party'],\n",
    "    df['second_party'],\n",
    "    df['facts'],\n",
    "    df['first_party_winner'],\n",
    "    test_size=0.2,\n",
    "    stratify=df['first_party_winner']\n",
    ")\n"
   ]
  },
  {
   "cell_type": "code",
   "execution_count": 1625,
   "id": "19176920",
   "metadata": {},
   "outputs": [],
   "source": [
    "# TF-IDF Feature Extraction\n",
    "vectorizer = TfidfVectorizer()\n",
    "X_train_facts = vectorizer.fit_transform(X_train_facts_text)\n",
    "X_test_facts = vectorizer.transform(X_test_facts_text)\n",
    "X_train_party1 = vectorizer.transform(X_train_party1_text)\n",
    "X_test_party1 = vectorizer.transform(X_test_party1_text)\n",
    "X_train_party2 = vectorizer.transform(X_train_party2_text)\n",
    "X_test_party2 = vectorizer.transform(X_test_party2_text)\n",
    "\n",
    "X_train = np.concatenate([X_train_party1.todense(), X_train_party2.todense(), X_train_facts.todense()], axis=1)\n",
    "X_test = np.concatenate([X_test_party1.todense(), X_test_party2.todense(), X_test_facts.todense()], axis=1)\n",
    "\n",
    "del X_train_facts, X_train_party1, X_train_party2\n",
    "del X_test_facts, X_test_party1, X_test_party2"
   ]
  },
  {
   "cell_type": "markdown",
   "id": "7175d6a5",
   "metadata": {},
   "source": [
    "#   "
   ]
  },
  {
   "cell_type": "markdown",
   "id": "6f99f37f",
   "metadata": {},
   "source": [
    "#   "
   ]
  },
  {
   "cell_type": "markdown",
   "id": "c6272dd8",
   "metadata": {},
   "source": [
    "#   "
   ]
  },
  {
   "cell_type": "markdown",
   "id": "a6003803",
   "metadata": {},
   "source": [
    "#   "
   ]
  },
  {
   "cell_type": "markdown",
   "id": "85e118a0",
   "metadata": {},
   "source": [
    "# Classification Models"
   ]
  },
  {
   "cell_type": "markdown",
   "id": "dfb3fdc6",
   "metadata": {},
   "source": [
    "### SVM"
   ]
  },
  {
   "cell_type": "code",
   "execution_count": 1626,
   "id": "14cc5418",
   "metadata": {},
   "outputs": [
    {
     "name": "stdout",
     "output_type": "stream",
     "text": [
      "SVM - Train\n",
      "               precision    recall  f1-score   support\n",
      "\n",
      "           0       1.00      0.81      0.89       865\n",
      "           1       0.91      1.00      0.95      1660\n",
      "\n",
      "    accuracy                           0.93      2525\n",
      "   macro avg       0.95      0.90      0.92      2525\n",
      "weighted avg       0.94      0.93      0.93      2525\n",
      "\n",
      "SVM - Test\n",
      "               precision    recall  f1-score   support\n",
      "\n",
      "           0       0.41      0.10      0.16       217\n",
      "           1       0.66      0.92      0.77       415\n",
      "\n",
      "    accuracy                           0.64       632\n",
      "   macro avg       0.54      0.51      0.47       632\n",
      "weighted avg       0.57      0.64      0.56       632\n",
      "\n"
     ]
    },
    {
     "name": "stderr",
     "output_type": "stream",
     "text": [
      "/Users/shatha_almoteb/opt/anaconda3/lib/python3.8/site-packages/sklearn/svm/_base.py:985: ConvergenceWarning: Liblinear failed to converge, increase the number of iterations.\n",
      "  warnings.warn(\"Liblinear failed to converge, increase \"\n"
     ]
    }
   ],
   "source": [
    "from sklearn.svm import LinearSVC\n",
    "# SVM\n",
    "model_svm = LinearSVC(\n",
    "    max_iter=5,\n",
    "    C=0.1,\n",
    "    intercept_scaling=0.1,\n",
    "    loss='squared_hinge',\n",
    "    penalty='l2',\n",
    "    tol=1e-2\n",
    ")\n",
    "model_svm.fit(X_train, y_train)\n",
    "\n",
    "y_train_pred = model_svm.predict(X_train)\n",
    "y_test_pred = model_svm.predict(X_test)\n",
    "\n",
    "print('SVM - Train\\n', classification_report(y_train, y_train_pred, zero_division=0))\n",
    "print('SVM - Test\\n', classification_report(y_test, y_test_pred, zero_division=0))\n"
   ]
  },
  {
   "cell_type": "markdown",
   "id": "97f2eb50",
   "metadata": {},
   "source": [
    "### Logistic Regression"
   ]
  },
  {
   "cell_type": "code",
   "execution_count": 1627,
   "id": "27b55660",
   "metadata": {},
   "outputs": [
    {
     "name": "stdout",
     "output_type": "stream",
     "text": [
      "Logistic Regression - Train\n",
      "               precision    recall  f1-score   support\n",
      "\n",
      "           0       1.00      0.81      0.89       865\n",
      "           1       0.91      1.00      0.95      1660\n",
      "\n",
      "    accuracy                           0.93      2525\n",
      "   macro avg       0.95      0.90      0.92      2525\n",
      "weighted avg       0.94      0.93      0.93      2525\n",
      "\n",
      "Logistic Regression - Test\n",
      "               precision    recall  f1-score   support\n",
      "\n",
      "           0       0.40      0.09      0.15       217\n",
      "           1       0.66      0.93      0.77       415\n",
      "\n",
      "    accuracy                           0.64       632\n",
      "   macro avg       0.53      0.51      0.46       632\n",
      "weighted avg       0.57      0.64      0.56       632\n",
      "\n"
     ]
    }
   ],
   "source": [
    "# Logistic Regression\n",
    "model_log_reg = LogisticRegression()\n",
    "model_log_reg.fit(X_train, y_train)\n",
    "\n",
    "y_train_pred = model_log_reg.predict(X_train)\n",
    "y_test_pred = model_log_reg.predict(X_test)\n",
    "\n",
    "print('Logistic Regression - Train\\n', classification_report(y_train, y_train_pred, zero_division=0))\n",
    "print('Logistic Regression - Test\\n', classification_report(y_test, y_test_pred, zero_division=0))"
   ]
  },
  {
   "cell_type": "markdown",
   "id": "6ebb125a",
   "metadata": {},
   "source": [
    "### Naive Bayes"
   ]
  },
  {
   "cell_type": "code",
   "execution_count": 1628,
   "id": "31780239",
   "metadata": {},
   "outputs": [
    {
     "name": "stdout",
     "output_type": "stream",
     "text": [
      "Naive Bayes - Train\n",
      "               precision    recall  f1-score   support\n",
      "\n",
      "           0       1.00      0.00      0.01       865\n",
      "           1       0.66      1.00      0.79      1660\n",
      "\n",
      "    accuracy                           0.66      2525\n",
      "   macro avg       0.83      0.50      0.40      2525\n",
      "weighted avg       0.78      0.66      0.52      2525\n",
      "\n",
      "Naive Bayes - Test\n",
      "               precision    recall  f1-score   support\n",
      "\n",
      "           0       0.00      0.00      0.00       217\n",
      "           1       0.66      1.00      0.79       415\n",
      "\n",
      "    accuracy                           0.66       632\n",
      "   macro avg       0.33      0.50      0.40       632\n",
      "weighted avg       0.43      0.66      0.52       632\n",
      "\n"
     ]
    }
   ],
   "source": [
    "# Naive Bayes\n",
    "model_naive_bayes = MultinomialNB(\n",
    "    alpha=3\n",
    ")\n",
    "model_naive_bayes.fit(X_train, y_train)\n",
    "\n",
    "y_train_pred = model_naive_bayes.predict(X_train)\n",
    "y_test_pred = model_naive_bayes.predict(X_test)\n",
    "\n",
    "print('Naive Bayes - Train\\n', classification_report(y_train, y_train_pred, zero_division=0))\n",
    "print('Naive Bayes - Test\\n', classification_report(y_test, y_test_pred, zero_division=0))"
   ]
  },
  {
   "cell_type": "markdown",
   "id": "9b96720c",
   "metadata": {},
   "source": [
    "### MLP"
   ]
  },
  {
   "cell_type": "code",
   "execution_count": 1629,
   "id": "12a2d6b1",
   "metadata": {},
   "outputs": [
    {
     "name": "stderr",
     "output_type": "stream",
     "text": [
      "/Users/shatha_almoteb/opt/anaconda3/lib/python3.8/site-packages/sklearn/neural_network/_multilayer_perceptron.py:614: ConvergenceWarning: Stochastic Optimizer: Maximum iterations (10) reached and the optimization hasn't converged yet.\n",
      "  warnings.warn(\n"
     ]
    },
    {
     "name": "stdout",
     "output_type": "stream",
     "text": [
      "MLP - Train\n",
      "               precision    recall  f1-score   support\n",
      "\n",
      "           0       0.75      0.63      0.69       865\n",
      "           1       0.82      0.89      0.85      1660\n",
      "\n",
      "    accuracy                           0.80      2525\n",
      "   macro avg       0.78      0.76      0.77      2525\n",
      "weighted avg       0.80      0.80      0.80      2525\n",
      "\n",
      "MLP - Test\n",
      "               precision    recall  f1-score   support\n",
      "\n",
      "           0       0.40      0.35      0.37       217\n",
      "           1       0.68      0.73      0.70       415\n",
      "\n",
      "    accuracy                           0.59       632\n",
      "   macro avg       0.54      0.54      0.54       632\n",
      "weighted avg       0.58      0.59      0.59       632\n",
      "\n"
     ]
    }
   ],
   "source": [
    "model_mlp = MLPClassifier(\n",
    "    early_stopping=True,\n",
    "    beta_2=0,\n",
    "    max_iter=10,\n",
    ")\n",
    "model_mlp.fit(X_train, y_train)\n",
    "\n",
    "y_train_pred = model_mlp.predict(X_train)\n",
    "y_test_pred = model_mlp.predict(X_test)\n",
    "\n",
    "print('MLP - Train\\n', classification_report(y_train, y_train_pred, zero_division=0))\n",
    "print('MLP - Test\\n', classification_report(y_test, y_test_pred, zero_division=0))"
   ]
  },
  {
   "cell_type": "markdown",
   "id": "a4237158",
   "metadata": {},
   "source": [
    "### KNN"
   ]
  },
  {
   "cell_type": "code",
   "execution_count": 1630,
   "id": "ba00bcc0",
   "metadata": {},
   "outputs": [
    {
     "name": "stdout",
     "output_type": "stream",
     "text": [
      "KNN - Train\n",
      "               precision    recall  f1-score   support\n",
      "\n",
      "           0       1.00      1.00      1.00       865\n",
      "           1       1.00      1.00      1.00      1660\n",
      "\n",
      "    accuracy                           1.00      2525\n",
      "   macro avg       1.00      1.00      1.00      2525\n",
      "weighted avg       1.00      1.00      1.00      2525\n",
      "\n",
      "KNN - Test\n",
      "               precision    recall  f1-score   support\n",
      "\n",
      "           0       0.27      0.13      0.18       217\n",
      "           1       0.64      0.81      0.72       415\n",
      "\n",
      "    accuracy                           0.58       632\n",
      "   macro avg       0.45      0.47      0.45       632\n",
      "weighted avg       0.51      0.58      0.53       632\n",
      "\n"
     ]
    }
   ],
   "source": [
    "# KNN\n",
    "model_knn = KNeighborsClassifier(n_neighbors=3, weights='distance')\n",
    "model_knn.fit(X_train, y_train)\n",
    "\n",
    "y_train_pred = model_knn.predict(X_train)\n",
    "y_test_pred = model_knn.predict(X_test)\n",
    "\n",
    "print('KNN - Train\\n', classification_report(y_train, y_train_pred, zero_division=0))\n",
    "print('KNN - Test\\n', classification_report(y_test, y_test_pred, zero_division=0))"
   ]
  },
  {
   "cell_type": "markdown",
   "id": "a644ea95",
   "metadata": {},
   "source": [
    "### Ensamble"
   ]
  },
  {
   "cell_type": "code",
   "execution_count": 1631,
   "id": "a0f78e0d",
   "metadata": {},
   "outputs": [],
   "source": [
    "models = []\n",
    "\n",
    "models.append(('svm', model_svm))\n",
    "models.append(('logistic_regression', model_log_reg))\n",
    "models.append(('naive_bayes', model_naive_bayes))\n",
    "models.append(('multi_layer_perceptron', model_mlp))\n",
    "models.append(('k_nearest_neighbors', model_knn))"
   ]
  },
  {
   "cell_type": "code",
   "execution_count": 1632,
   "id": "dd6eedc3",
   "metadata": {},
   "outputs": [
    {
     "name": "stderr",
     "output_type": "stream",
     "text": [
      "/Users/shatha_almoteb/opt/anaconda3/lib/python3.8/site-packages/sklearn/svm/_base.py:985: ConvergenceWarning: Liblinear failed to converge, increase the number of iterations.\n",
      "  warnings.warn(\"Liblinear failed to converge, increase \"\n",
      "/Users/shatha_almoteb/opt/anaconda3/lib/python3.8/site-packages/sklearn/neural_network/_multilayer_perceptron.py:614: ConvergenceWarning: Stochastic Optimizer: Maximum iterations (10) reached and the optimization hasn't converged yet.\n",
      "  warnings.warn(\n"
     ]
    },
    {
     "name": "stdout",
     "output_type": "stream",
     "text": [
      "Ensemble - Train\n",
      "               precision    recall  f1-score   support\n",
      "\n",
      "           0       1.00      0.78      0.88       865\n",
      "           1       0.90      1.00      0.95      1660\n",
      "\n",
      "    accuracy                           0.93      2525\n",
      "   macro avg       0.95      0.89      0.91      2525\n",
      "weighted avg       0.93      0.93      0.92      2525\n",
      "\n",
      "Ensemble - Test\n",
      "               precision    recall  f1-score   support\n",
      "\n",
      "           0       0.45      0.04      0.08       217\n",
      "           1       0.66      0.97      0.79       415\n",
      "\n",
      "    accuracy                           0.65       632\n",
      "   macro avg       0.56      0.51      0.43       632\n",
      "weighted avg       0.59      0.65      0.54       632\n",
      "\n"
     ]
    }
   ],
   "source": [
    "# Ensemble\n",
    "ensemble = VotingClassifier(models, voting='hard')\n",
    "ensemble.fit(X_train, y_train)\n",
    "\n",
    "y_train_pred = ensemble.predict(X_train)\n",
    "y_test_pred = ensemble.predict(X_test)\n",
    "\n",
    "print('Ensemble - Train\\n', classification_report(y_train, y_train_pred, zero_division=0))\n",
    "print('Ensemble - Test\\n', classification_report(y_test, y_test_pred, zero_division=0))"
   ]
  },
  {
   "cell_type": "code",
   "execution_count": null,
   "id": "9039936f",
   "metadata": {},
   "outputs": [],
   "source": []
  },
  {
   "cell_type": "markdown",
   "id": "09d81490",
   "metadata": {},
   "source": [
    "### Demo"
   ]
  },
  {
   "cell_type": "code",
   "execution_count": 1633,
   "id": "27f9b8ee",
   "metadata": {},
   "outputs": [],
   "source": [
    "def predict(party1, party2, facts):\n",
    "    X_party1 = vectorizer.transform([party1]).todense()\n",
    "    X_party2 = vectorizer.transform([party2]).todense()\n",
    "    X_facts  = vectorizer.transform([facts]).todense()\n",
    "    X = np.concatenate([X_party1, X_party2, X_facts], axis=1)\n",
    "    return ensemble.predict(X)[0]\n"
   ]
  },
  {
   "cell_type": "code",
   "execution_count": 1634,
   "id": "79806483",
   "metadata": {},
   "outputs": [
    {
     "name": "stdout",
     "output_type": "stream",
     "text": [
      "Expecting 1 but got 1\n"
     ]
    }
   ],
   "source": [
    "out = predict('Jake', 'John', 'John was assaulted by Jake at gun point.')\n",
    "print(f'Expecting 1 but got {out}')"
   ]
  },
  {
   "cell_type": "code",
   "execution_count": null,
   "id": "8111f0f4",
   "metadata": {},
   "outputs": [],
   "source": []
  },
  {
   "cell_type": "code",
   "execution_count": null,
   "id": "09ce1210",
   "metadata": {},
   "outputs": [],
   "source": [
    "\n"
   ]
  }
 ],
 "metadata": {
  "kernelspec": {
   "display_name": "Python 3",
   "language": "python",
   "name": "python3"
  },
  "language_info": {
   "codemirror_mode": {
    "name": "ipython",
    "version": 3
   },
   "file_extension": ".py",
   "mimetype": "text/x-python",
   "name": "python",
   "nbconvert_exporter": "python",
   "pygments_lexer": "ipython3",
   "version": "3.8.8"
  }
 },
 "nbformat": 4,
 "nbformat_minor": 5
}
